{
 "cells": [
  {
   "cell_type": "markdown",
   "metadata": {},
   "source": [
    "# Comparing all_apps and no_network data"
   ]
  },
  {
   "cell_type": "markdown",
   "metadata": {},
   "source": [
    "### TLDR"
   ]
  },
  {
   "cell_type": "markdown",
   "metadata": {},
   "source": [
    "##### Applications under test"
   ]
  },
  {
   "cell_type": "markdown",
   "metadata": {},
   "source": [
    "1. DFT (CPU Usage)\n",
    "2. Compression of a string in memory (CPU Usage)\n",
    "3. File IO (Disk Usage)\n",
    "4. Network broadcast (network usage)"
   ]
  },
  {
   "cell_type": "markdown",
   "metadata": {},
   "source": [
    "------"
   ]
  },
  {
   "cell_type": "markdown",
   "metadata": {},
   "source": [
    "###### Imports"
   ]
  },
  {
   "cell_type": "code",
   "execution_count": 1,
   "metadata": {
    "collapsed": true
   },
   "outputs": [],
   "source": [
    "import numpy\n",
    "import pandas\n",
    "import matplotlib.pyplot as plotter"
   ]
  },
  {
   "cell_type": "markdown",
   "metadata": {},
   "source": [
    "##### Visualisation functions"
   ]
  },
  {
   "cell_type": "markdown",
   "metadata": {},
   "source": [
    "###### Boxplots"
   ]
  },
  {
   "cell_type": "code",
   "execution_count": 2,
   "metadata": {
    "collapsed": true
   },
   "outputs": [],
   "source": [
    "def show_boxplot(df):\n",
    "    %matplotlib\n",
    "    df.boxplot()\n",
    "    plotter.show()"
   ]
  },
  {
   "cell_type": "markdown",
   "metadata": {},
   "source": [
    "##### Image heat maps"
   ]
  },
  {
   "cell_type": "code",
   "execution_count": 3,
   "metadata": {
    "collapsed": true
   },
   "outputs": [],
   "source": [
    "def show_heat_map(matrix1, matrix2):\n",
    "    \n",
    "    for i in range(10):\n",
    "        plotter.subplot(121)\n",
    "        plotter.imshow(matrix1[i])\n",
    "        plotter.subplot(122)\n",
    "        plotter.imshow(matrix2[i])\n",
    "        plotter.show()"
   ]
  },
  {
   "cell_type": "markdown",
   "metadata": {},
   "source": [
    "------"
   ]
  },
  {
   "cell_type": "markdown",
   "metadata": {},
   "source": [
    "### For All applications running"
   ]
  },
  {
   "cell_type": "markdown",
   "metadata": {},
   "source": [
    "#### Read CPU data"
   ]
  },
  {
   "cell_type": "code",
   "execution_count": 4,
   "metadata": {
    "collapsed": true
   },
   "outputs": [],
   "source": [
    "all_apps_cpu = pandas.read_csv(\"data/all_apps/all_apps_cpu.csv\", index_col='Time').drop(\"Unnamed: 0\", axis=1)"
   ]
  },
  {
   "cell_type": "code",
   "execution_count": 5,
   "metadata": {
    "collapsed": true
   },
   "outputs": [],
   "source": [
    "#show_boxplot(all_apps_cpu)"
   ]
  },
  {
   "cell_type": "markdown",
   "metadata": {},
   "source": [
    "CPU usage lies between 0 - 700 units. Most values are at zero and outliers are very far out. They may affect scaling of data (far outliers may undermine useful features)"
   ]
  },
  {
   "cell_type": "markdown",
   "metadata": {},
   "source": [
    "#### Read net_tx data"
   ]
  },
  {
   "cell_type": "code",
   "execution_count": 6,
   "metadata": {
    "collapsed": true
   },
   "outputs": [],
   "source": [
    "all_apps_net_tx = pandas.read_csv('data/all_apps/all_apps_network_tx.csv', index_col='Time').drop('Unnamed: 0', axis=1)"
   ]
  },
  {
   "cell_type": "code",
   "execution_count": 7,
   "metadata": {
    "collapsed": true
   },
   "outputs": [],
   "source": [
    "#show_boxplot(all_apps_net_tx)"
   ]
  },
  {
   "cell_type": "markdown",
   "metadata": {},
   "source": [
    "Network tx data has huge outliers going out to 600000 units while most data lies around 0 to 100000. It will be better to clip the data to avoid losing important features."
   ]
  },
  {
   "cell_type": "code",
   "execution_count": 8,
   "metadata": {
    "collapsed": true
   },
   "outputs": [],
   "source": [
    "all_apps_net_tx = all_apps_net_tx.clip(lower=0, upper=40000)"
   ]
  },
  {
   "cell_type": "code",
   "execution_count": 9,
   "metadata": {
    "collapsed": true
   },
   "outputs": [],
   "source": [
    "#show_boxplot(all_apps_net_tx)"
   ]
  },
  {
   "cell_type": "markdown",
   "metadata": {},
   "source": [
    "#### Read net rx data"
   ]
  },
  {
   "cell_type": "code",
   "execution_count": 10,
   "metadata": {
    "collapsed": true
   },
   "outputs": [],
   "source": [
    "all_apps_net_rx = pandas.read_csv('data/all_apps/all_apps_network_rx.csv', index_col='Time').drop('Unnamed: 0', axis=1)"
   ]
  },
  {
   "cell_type": "code",
   "execution_count": 11,
   "metadata": {
    "collapsed": true
   },
   "outputs": [],
   "source": [
    "#show_boxplot(all_apps_net_rx)"
   ]
  },
  {
   "cell_type": "markdown",
   "metadata": {},
   "source": [
    "Network RX data look relatively clean. There are a few outliers. All data will be clipped to 40,000 units"
   ]
  },
  {
   "cell_type": "code",
   "execution_count": 12,
   "metadata": {
    "collapsed": true
   },
   "outputs": [],
   "source": [
    "all_apps_net_rx = all_apps_net_rx.clip(lower=0, upper=40000)"
   ]
  },
  {
   "cell_type": "code",
   "execution_count": 13,
   "metadata": {
    "collapsed": true
   },
   "outputs": [],
   "source": [
    "#show_boxplot(all_apps_net_rx)"
   ]
  },
  {
   "cell_type": "markdown",
   "metadata": {},
   "source": [
    "#### Read disk IO data"
   ]
  },
  {
   "cell_type": "code",
   "execution_count": 14,
   "metadata": {
    "collapsed": true
   },
   "outputs": [],
   "source": [
    "all_apps_disk = pandas.read_csv('data/all_apps/all_apps_disk_io.csv', index_col='Time').drop('Unnamed: 0', axis=1)"
   ]
  },
  {
   "cell_type": "code",
   "execution_count": 15,
   "metadata": {
    "collapsed": true
   },
   "outputs": [],
   "source": [
    "#show_boxplot(all_apps_disk)"
   ]
  },
  {
   "cell_type": "markdown",
   "metadata": {},
   "source": [
    "Disk IO data is not very clear. There are quite a few outliers. So it is not clear if they are indeed outliers or may be useful in determining some events. No clipping will be done"
   ]
  },
  {
   "cell_type": "markdown",
   "metadata": {},
   "source": [
    "------"
   ]
  },
  {
   "cell_type": "markdown",
   "metadata": {},
   "source": [
    "### For network application stopped"
   ]
  },
  {
   "cell_type": "markdown",
   "metadata": {},
   "source": [
    "#### Read CPU data"
   ]
  },
  {
   "cell_type": "code",
   "execution_count": 16,
   "metadata": {
    "collapsed": true
   },
   "outputs": [],
   "source": [
    "no_net_cpu = pandas.read_csv('data/no_network/no_network_cpu.csv', index_col='Time').drop('Unnamed: 0', axis=1)"
   ]
  },
  {
   "cell_type": "code",
   "execution_count": 17,
   "metadata": {
    "collapsed": true
   },
   "outputs": [],
   "source": [
    "#show_boxplot(no_net_cpu)"
   ]
  },
  {
   "cell_type": "markdown",
   "metadata": {},
   "source": [
    "This data looks fine. No need to clip"
   ]
  },
  {
   "cell_type": "markdown",
   "metadata": {},
   "source": [
    "#### Read net TX data"
   ]
  },
  {
   "cell_type": "code",
   "execution_count": 18,
   "metadata": {
    "collapsed": true
   },
   "outputs": [],
   "source": [
    "no_net_net_tx = pandas.read_csv('data/no_network/no_network_network_tx.csv', index_col='Time').drop('Unnamed: 0', axis=1)"
   ]
  },
  {
   "cell_type": "code",
   "execution_count": 19,
   "metadata": {
    "collapsed": true
   },
   "outputs": [],
   "source": [
    "#show_boxplot(no_net_net_tx)"
   ]
  },
  {
   "cell_type": "markdown",
   "metadata": {},
   "source": [
    "Data look fine. Visible difference in the scale in comparison to previous TX data"
   ]
  },
  {
   "cell_type": "markdown",
   "metadata": {},
   "source": [
    "#### Read net RX data"
   ]
  },
  {
   "cell_type": "code",
   "execution_count": 20,
   "metadata": {
    "collapsed": true
   },
   "outputs": [],
   "source": [
    "no_net_net_rx = pandas.read_csv('data/no_network/no_network_network_rx.csv', index_col='Time').drop('Unnamed: 0', axis=1)"
   ]
  },
  {
   "cell_type": "code",
   "execution_count": 21,
   "metadata": {
    "collapsed": true
   },
   "outputs": [],
   "source": [
    "#show_boxplot(no_net_net_rx)"
   ]
  },
  {
   "cell_type": "markdown",
   "metadata": {},
   "source": [
    "Outliers in data. Clipping to 500 units"
   ]
  },
  {
   "cell_type": "code",
   "execution_count": 22,
   "metadata": {
    "collapsed": true
   },
   "outputs": [],
   "source": [
    "no_net_net_rx = no_net_net_rx.clip(lower=0, upper=500)"
   ]
  },
  {
   "cell_type": "code",
   "execution_count": 23,
   "metadata": {
    "collapsed": true
   },
   "outputs": [],
   "source": [
    "#show_boxplot(no_net_net_rx)"
   ]
  },
  {
   "cell_type": "markdown",
   "metadata": {},
   "source": [
    "#### Read disk IO data"
   ]
  },
  {
   "cell_type": "code",
   "execution_count": 24,
   "metadata": {
    "collapsed": true
   },
   "outputs": [],
   "source": [
    "no_net_disk = pandas.read_csv('data/no_network/no_network_disk_io.csv', index_col='Time').drop('Unnamed: 0', axis=1)"
   ]
  },
  {
   "cell_type": "code",
   "execution_count": 25,
   "metadata": {
    "collapsed": true
   },
   "outputs": [],
   "source": [
    "#show_boxplot(no_net_disk)"
   ]
  },
  {
   "cell_type": "markdown",
   "metadata": {},
   "source": [
    "------"
   ]
  },
  {
   "cell_type": "markdown",
   "metadata": {},
   "source": [
    "### For DFT application not running"
   ]
  },
  {
   "cell_type": "markdown",
   "metadata": {},
   "source": [
    "#### Read CPU usage data"
   ]
  },
  {
   "cell_type": "code",
   "execution_count": 26,
   "metadata": {
    "collapsed": true
   },
   "outputs": [],
   "source": [
    "no_dft_cpu = pandas.read_csv('data/no_dft/no_dft_cpu.csv', index_col='Time').drop('Unnamed: 0', axis=1)"
   ]
  },
  {
   "cell_type": "code",
   "execution_count": 27,
   "metadata": {
    "collapsed": true
   },
   "outputs": [],
   "source": [
    "#show_boxplot(no_dft_cpu)"
   ]
  },
  {
   "cell_type": "markdown",
   "metadata": {},
   "source": [
    "CPU Data look clean. No need to clip"
   ]
  },
  {
   "cell_type": "markdown",
   "metadata": {},
   "source": [
    "#### Read net tx data"
   ]
  },
  {
   "cell_type": "code",
   "execution_count": 28,
   "metadata": {
    "collapsed": true
   },
   "outputs": [],
   "source": [
    "no_dft_net_tx = pandas.read_csv('data/no_dft/no_dft_network_tx.csv', index_col='Time').drop('Unnamed: 0', axis=1)"
   ]
  },
  {
   "cell_type": "code",
   "execution_count": 29,
   "metadata": {
    "collapsed": true
   },
   "outputs": [],
   "source": [
    "#show_boxplot(no_dft_net_tx)"
   ]
  },
  {
   "cell_type": "markdown",
   "metadata": {},
   "source": [
    "Few outliers on net TX data but not high in magnitude. So will not clip"
   ]
  },
  {
   "cell_type": "markdown",
   "metadata": {},
   "source": [
    "#### Read net rx data"
   ]
  },
  {
   "cell_type": "code",
   "execution_count": 30,
   "metadata": {
    "collapsed": true
   },
   "outputs": [],
   "source": [
    "no_dft_net_rx = pandas.read_csv('data/no_dft/no_dft_network_rx.csv', index_col='Time').drop('Unnamed: 0', axis=1)"
   ]
  },
  {
   "cell_type": "code",
   "execution_count": 31,
   "metadata": {
    "collapsed": true
   },
   "outputs": [],
   "source": [
    "#show_boxplot(no_dft_net_rx)"
   ]
  },
  {
   "cell_type": "markdown",
   "metadata": {},
   "source": [
    "Rx has a few outliers."
   ]
  },
  {
   "cell_type": "markdown",
   "metadata": {},
   "source": [
    "#### Read disk IO data"
   ]
  },
  {
   "cell_type": "code",
   "execution_count": 32,
   "metadata": {
    "collapsed": true
   },
   "outputs": [],
   "source": [
    "no_dft_disk = pandas.read_csv('data/no_dft/no_dft_disk_io.csv', index_col='Time').drop('Unnamed: 0', axis=1)"
   ]
  },
  {
   "cell_type": "code",
   "execution_count": 33,
   "metadata": {
    "collapsed": true
   },
   "outputs": [],
   "source": [
    "#show_boxplot(no_dft_disk)"
   ]
  },
  {
   "cell_type": "markdown",
   "metadata": {},
   "source": [
    "Too many outliers. Will be clipped to 1000"
   ]
  },
  {
   "cell_type": "code",
   "execution_count": 34,
   "metadata": {
    "collapsed": true
   },
   "outputs": [],
   "source": [
    "no_dft_disk = no_dft_disk.clip(lower=0, upper=1000)"
   ]
  },
  {
   "cell_type": "markdown",
   "metadata": {},
   "source": [
    "------"
   ]
  },
  {
   "cell_type": "markdown",
   "metadata": {},
   "source": [
    "### Assemble dataframes"
   ]
  },
  {
   "cell_type": "code",
   "execution_count": 35,
   "metadata": {},
   "outputs": [
    {
     "name": "stdout",
     "output_type": "stream",
     "text": [
      "Shape of no_net df: (12942, 336) and all_apps df: (12942, 336) and no_dft df: (16537, 196)\n"
     ]
    }
   ],
   "source": [
    "no_net_df = pandas.concat([no_net_cpu,\n",
    "                           no_net_net_rx,\n",
    "                           no_net_net_tx,\n",
    "                           no_net_disk], join='inner', axis=1)\n",
    "\n",
    "all_apps_df = pandas.concat([all_apps_cpu,\n",
    "                             all_apps_net_rx,\n",
    "                             all_apps_net_tx,\n",
    "                             all_apps_disk], join='inner', axis=1)\n",
    "\n",
    "no_dft_df = pandas.concat([no_dft_cpu,\n",
    "                           no_dft_net_rx,\n",
    "                           no_dft_net_tx,\n",
    "                           no_dft_disk], join='inner', axis=1)\n",
    "\n",
    "print(f\"Shape of no_net df: {no_net_df.shape} and all_apps df: {all_apps_df.shape} and no_dft df: {no_dft_df.shape}\")"
   ]
  },
  {
   "cell_type": "code",
   "execution_count": 44,
   "metadata": {},
   "outputs": [
    {
     "data": {
      "text/plain": [
       "Index(['cpu_value host bb1localdomain type_instance idle',\n",
       "       'cpu_value host bb1localdomain type_instance interrupt',\n",
       "       'cpu_value host bb1localdomain type_instance nice',\n",
       "       'cpu_value host bb1localdomain type_instance softirq',\n",
       "       'cpu_value host bb1localdomain type_instance steal',\n",
       "       'cpu_value host bb1localdomain type_instance system',\n",
       "       'cpu_value host bb1localdomain type_instance user',\n",
       "       'cpu_value host bb1localdomain type_instance wait',\n",
       "       'cpu_value host bb2localdomain type_instance idle',\n",
       "       'cpu_value host bb2localdomain type_instance interrupt',\n",
       "       ...\n",
       "       'disk_io_time host bb5localdomain instance mmcblk1boot1 type disk_io_time',\n",
       "       'disk_io_time host bb5localdomain instance mmcblk1p1 type disk_io_time',\n",
       "       'disk_io_time host bb6localdomain instance mmcblk1 type disk_io_time',\n",
       "       'disk_io_time host bb6localdomain instance mmcblk1boot0 type disk_io_time',\n",
       "       'disk_io_time host bb6localdomain instance mmcblk1boot1 type disk_io_time',\n",
       "       'disk_io_time host bb6localdomain instance mmcblk1p1 type disk_io_time',\n",
       "       'disk_io_time host bb7localdomain instance mmcblk1 type disk_io_time',\n",
       "       'disk_io_time host bb7localdomain instance mmcblk1boot0 type disk_io_time',\n",
       "       'disk_io_time host bb7localdomain instance mmcblk1boot1 type disk_io_time',\n",
       "       'disk_io_time host bb7localdomain instance mmcblk1p1 type disk_io_time'],\n",
       "      dtype='object', length=196)"
      ]
     },
     "execution_count": 44,
     "metadata": {},
     "output_type": "execute_result"
    }
   ],
   "source": [
    "no_dft_df.columns"
   ]
  },
  {
   "cell_type": "markdown",
   "metadata": {},
   "source": [
    "Delete individual dframes to save memory"
   ]
  },
  {
   "cell_type": "code",
   "execution_count": 27,
   "metadata": {
    "collapsed": true
   },
   "outputs": [],
   "source": [
    "del all_apps_cpu\n",
    "del all_apps_disk\n",
    "del all_apps_net_rx\n",
    "del all_apps_net_tx\n",
    "del no_net_cpu\n",
    "del no_net_disk\n",
    "del no_net_net_rx\n",
    "del no_net_net_tx"
   ]
  },
  {
   "cell_type": "markdown",
   "metadata": {
    "collapsed": true
   },
   "source": [
    "### Scale data between 0 and 1"
   ]
  },
  {
   "cell_type": "code",
   "execution_count": 28,
   "metadata": {
    "collapsed": true
   },
   "outputs": [],
   "source": [
    "from sklearn.preprocessing import MinMaxScaler"
   ]
  },
  {
   "cell_type": "code",
   "execution_count": 29,
   "metadata": {
    "collapsed": true
   },
   "outputs": [],
   "source": [
    "scaler = MinMaxScaler()\n",
    "data = numpy.vstack([no_net_df.as_matrix(), all_apps_df.as_matrix()])"
   ]
  },
  {
   "cell_type": "code",
   "execution_count": 30,
   "metadata": {},
   "outputs": [
    {
     "data": {
      "text/plain": [
       "MinMaxScaler(copy=True, feature_range=(0, 1))"
      ]
     },
     "execution_count": 30,
     "metadata": {},
     "output_type": "execute_result"
    }
   ],
   "source": [
    "scaler.fit(data)"
   ]
  },
  {
   "cell_type": "markdown",
   "metadata": {},
   "source": [
    "Get scaled matrices "
   ]
  },
  {
   "cell_type": "code",
   "execution_count": 31,
   "metadata": {},
   "outputs": [
    {
     "name": "stdout",
     "output_type": "stream",
     "text": [
      "(12942, 336)\n",
      "(12942, 336)\n",
      "Max of all_apps 1.0000000000000002. Min 0.0\n",
      "Max of all_apps 1.0000000000000002. Min 0.0\n"
     ]
    }
   ],
   "source": [
    "all_apps_data = scaler.transform(all_apps_df)\n",
    "no_net_data = scaler.transform(no_net_df)\n",
    "print(all_apps_data.shape)\n",
    "print(no_net_data.shape)\n",
    "print(f\"Max of all_apps {numpy.max(all_apps_data)}. Min {numpy.min(all_apps_data)}\")\n",
    "print(f\"Max of all_apps {numpy.max(no_net_data)}. Min {numpy.min(no_net_data)}\")"
   ]
  },
  {
   "cell_type": "markdown",
   "metadata": {},
   "source": [
    "### Run single point clustering"
   ]
  },
  {
   "cell_type": "markdown",
   "metadata": {},
   "source": [
    "#### Run PCA to reduce dimensionality"
   ]
  },
  {
   "cell_type": "code",
   "execution_count": 32,
   "metadata": {
    "collapsed": true
   },
   "outputs": [],
   "source": [
    "from sklearn.decomposition import PCA"
   ]
  },
  {
   "cell_type": "code",
   "execution_count": 33,
   "metadata": {
    "collapsed": true
   },
   "outputs": [],
   "source": [
    "pca = PCA(n_components=2)"
   ]
  },
  {
   "cell_type": "markdown",
   "metadata": {},
   "source": [
    "Fit PCA to whole data"
   ]
  },
  {
   "cell_type": "code",
   "execution_count": 34,
   "metadata": {},
   "outputs": [
    {
     "data": {
      "text/plain": [
       "PCA(copy=True, iterated_power='auto', n_components=2, random_state=None,\n",
       "  svd_solver='auto', tol=0.0, whiten=False)"
      ]
     },
     "execution_count": 34,
     "metadata": {},
     "output_type": "execute_result"
    }
   ],
   "source": [
    "pca.fit(data)"
   ]
  },
  {
   "cell_type": "code",
   "execution_count": 35,
   "metadata": {
    "collapsed": true
   },
   "outputs": [],
   "source": [
    "red_all_apps = pca.transform(all_apps_data)\n",
    "red_no_net = pca.transform(no_net_data)"
   ]
  },
  {
   "cell_type": "code",
   "execution_count": 36,
   "metadata": {},
   "outputs": [
    {
     "data": {
      "image/png": "[encoded data removed]",
      "text/plain": [
       "<matplotlib.figure.Figure at 0x7faaee268438>"
      ]
     },
     "metadata": {},
     "output_type": "display_data"
    }
   ],
   "source": [
    "plotter.scatter(red_all_apps[:,0], red_all_apps[:,1], c='r', marker='+', alpha=0.1)\n",
    "plotter.scatter(red_no_net[:,0], red_no_net[:,1], c='b', marker='+', alpha=0.1)\n",
    "plotter.show()"
   ]
  },
  {
   "cell_type": "markdown",
   "metadata": {},
   "source": [
    "### Run clustering for 100 timesteps"
   ]
  },
  {
   "cell_type": "markdown",
   "metadata": {},
   "source": [
    "Take only the first 12900 time steps to make time step creation easy"
   ]
  },
  {
   "cell_type": "code",
   "execution_count": 37,
   "metadata": {
    "collapsed": true
   },
   "outputs": [],
   "source": [
    "all_apps_data = all_apps_data[:12900]\n",
    "no_net_data = no_net_data[:12900]"
   ]
  },
  {
   "cell_type": "code",
   "execution_count": 38,
   "metadata": {},
   "outputs": [
    {
     "name": "stdout",
     "output_type": "stream",
     "text": [
      "[[ 0.          0.          0.         ...,  0.          0.          0.01882845]\n",
      " [ 0.          0.          0.         ...,  0.          0.          0.05857741]\n",
      " [ 0.          0.          0.         ...,  0.          0.          0.05125523]\n",
      " ..., \n",
      " [ 0.          0.          0.         ...,  0.          0.          0.01778243]\n",
      " [ 0.          0.          0.         ...,  0.          0.          0.0292887 ]\n",
      " [ 0.          0.          0.         ...,  0.          0.          0.03556485]]\n",
      "[[[ 0.          0.          0.         ...,  0.          0.          0.01882845]\n",
      "  [ 0.          0.          0.         ...,  0.          0.          0.05857741]\n",
      "  [ 0.          0.          0.         ...,  0.          0.          0.05125523]\n",
      "  ..., \n",
      "  [ 0.          0.          0.         ...,  0.          0.          0.01569038]\n",
      "  [ 0.          0.          0.         ...,  0.          0.          0.02824268]\n",
      "  [ 0.          0.          0.         ...,  0.          0.          0.04497908]]\n",
      "\n",
      " [[ 0.          0.          0.         ...,  0.          0.          0.06799163]\n",
      "  [ 0.          0.          0.         ...,  0.          0.          0.11820084]\n",
      "  [ 0.          0.          0.         ...,  0.          0.          0.05125523]\n",
      "  ..., \n",
      "  [ 0.          0.          0.         ...,  0.          0.          0.02719665]\n",
      "  [ 0.          0.          0.         ...,  0.          0.          0.01987448]\n",
      "  [ 0.          0.          0.         ...,  0.          0.          0.13075314]]\n",
      "\n",
      " [[ 0.          0.          0.         ...,  0.          0.          0.02615063]\n",
      "  [ 0.          0.          0.         ...,  0.          0.          0.02405858]\n",
      "  [ 0.          0.          0.         ...,  0.          0.          0.03870293]\n",
      "  ..., \n",
      "  [ 0.          0.          0.         ...,  0.          0.          0.0292887 ]\n",
      "  [ 0.          0.          0.         ...,  0.          0.          0.02405858]\n",
      "  [ 0.          0.          0.         ...,  0.          0.          0.05962343]]\n",
      "\n",
      " [[ 0.          0.          0.         ...,  0.          0.          0.02824268]\n",
      "  [ 0.          0.          0.         ...,  0.          0.          0.02615063]\n",
      "  [ 0.          0.          0.         ...,  0.          0.          0.13389121]\n",
      "  ..., \n",
      "  [ 0.          0.          0.         ...,  0.          0.          0.02405858]\n",
      "  [ 0.          0.          0.         ...,  0.          0.          0.03556485]\n",
      "  [ 0.          0.          0.         ...,  0.          0.          0.02719665]]\n",
      "\n",
      " [[ 0.          0.          0.         ...,  0.          0.          0.02301255]\n",
      "  [ 0.          0.          0.         ...,  0.          0.          0.14644351]\n",
      "  [ 0.          0.          0.         ...,  0.          0.          0.07322176]\n",
      "  ..., \n",
      "  [ 0.          0.          0.         ...,  0.          0.          0.06589958]\n",
      "  [ 0.          0.          0.         ...,  0.          0.          0.08786611]\n",
      "  [ 0.          0.          0.         ...,  0.          0.          0.09414226]]]\n"
     ]
    }
   ],
   "source": [
    "batch_size = all_apps_data.shape[0]\n",
    "n_dim = all_apps_data.shape[1]\n",
    "print(all_apps_data[:10])\n",
    "all_apps_data = all_apps_data.reshape((-1,100,n_dim))\n",
    "no_net_data = no_net_data.reshape((-1,100,n_dim))\n",
    "print(all_apps_data[:5])"
   ]
  },
  {
   "cell_type": "code",
   "execution_count": 39,
   "metadata": {},
   "outputs": [
    {
     "data": {
      "image/png": "[encoded data removed]",
      "text/plain": [
       "<matplotlib.figure.Figure at 0x7faaee257c18>"
      ]
     },
     "metadata": {},
     "output_type": "display_data"
    },
    {
     "data": {
      "image/png": "[encoded data removed]",
      "text/plain": [
       "<matplotlib.figure.Figure at 0x7faae28da780>"
      ]
     },
     "metadata": {},
     "output_type": "display_data"
    },
    {
     "data": {
      "image/png": "[encoded data removed]",
      "text/plain": [
       "<matplotlib.figure.Figure at 0x7faae285c9e8>"
      ]
     },
     "metadata": {},
     "output_type": "display_data"
    },
    {
     "data": {
      "image/png": "[encoded data removed]",
      "text/plain": [
       "<matplotlib.figure.Figure at 0x7faae2816d68>"
      ]
     },
     "metadata": {},
     "output_type": "display_data"
    },
    {
     "data": {
      "image/png": "[encoded data removed]",
      "text/plain": [
       "<matplotlib.figure.Figure at 0x7faaedc6eac8>"
      ]
     },
     "metadata": {},
     "output_type": "display_data"
    },
    {
     "data": {
      "image/png": "[encoded data removed]",
      "text/plain": [
       "<matplotlib.figure.Figure at 0x7faaedc39a58>"
      ]
     },
     "metadata": {},
     "output_type": "display_data"
    },
    {
     "data": {
      "image/png": "[encoded data removed]",
      "text/plain": [
       "<matplotlib.figure.Figure at 0x7faae2812b70>"
      ]
     },
     "metadata": {},
     "output_type": "display_data"
    },
    {
     "data": {
      "image/png": "[encoded data removed]",
      "text/plain": [
       "<matplotlib.figure.Figure at 0x7faae272be48>"
      ]
     },
     "metadata": {},
     "output_type": "display_data"
    },
    {
     "data": {
      "image/png": "[encoded data removed]",
      "text/plain": [
       "<matplotlib.figure.Figure at 0x7faae29324a8>"
      ]
     },
     "metadata": {},
     "output_type": "display_data"
    },
    {
     "data": {
      "image/png": "[encoded data removed]",
      "text/plain": [
       "<matplotlib.figure.Figure at 0x7faae2578f98>"
      ]
     },
     "metadata": {},
     "output_type": "display_data"
    }
   ],
   "source": [
    "show_heat_map(all_apps_data, no_net_data)"
   ]
  },
  {
   "cell_type": "code",
   "execution_count": 40,
   "metadata": {
    "collapsed": true
   },
   "outputs": [],
   "source": [
    "batch_size = all_apps_data.shape[0]\n",
    "all_apps_data_flat = all_apps_data.reshape((batch_size,-1))\n",
    "no_net_data_flat = no_net_data.reshape((batch_size,-1))"
   ]
  },
  {
   "cell_type": "markdown",
   "metadata": {},
   "source": [
    "##### Reducing dimensionality for clustering visualisation"
   ]
  },
  {
   "cell_type": "code",
   "execution_count": 41,
   "metadata": {},
   "outputs": [
    {
     "data": {
      "text/plain": [
       "PCA(copy=True, iterated_power='auto', n_components=2, random_state=None,\n",
       "  svd_solver='auto', tol=0.0, whiten=False)"
      ]
     },
     "execution_count": 41,
     "metadata": {},
     "output_type": "execute_result"
    }
   ],
   "source": [
    "pca = PCA(n_components=2)\n",
    "pca.fit(numpy.vstack([all_apps_data_flat, no_net_data_flat]))"
   ]
  },
  {
   "cell_type": "code",
   "execution_count": 42,
   "metadata": {
    "collapsed": true
   },
   "outputs": [],
   "source": [
    "red_all_apps_flat = pca.transform(all_apps_data_flat)\n",
    "red_no_net_flat = pca.transform(no_net_data_flat)"
   ]
  },
  {
   "cell_type": "code",
   "execution_count": 43,
   "metadata": {},
   "outputs": [
    {
     "data": {
      "image/png": "[encoded data removed]",
      "text/plain": [
       "<matplotlib.figure.Figure at 0x7faae25ab400>"
      ]
     },
     "metadata": {},
     "output_type": "display_data"
    }
   ],
   "source": [
    "plotter.scatter(red_all_apps_flat[:,0], red_all_apps_flat[:,1], c='r', marker='+', alpha=0.3)\n",
    "plotter.scatter(no_net_data_flat[:,0], no_net_data_flat[:,1], c='b', marker='+', alpha=0.3)\n",
    "plotter.show()"
   ]
  },
  {
   "cell_type": "markdown",
   "metadata": {
    "collapsed": true
   },
   "source": [
    "------"
   ]
  },
  {
   "cell_type": "markdown",
   "metadata": {},
   "source": [
    "## BB1 single node analysis"
   ]
  },
  {
   "cell_type": "markdown",
   "metadata": {},
   "source": [
    "Select only BB1 columns on all dframes"
   ]
  },
  {
   "cell_type": "code",
   "execution_count": 36,
   "metadata": {},
   "outputs": [
    {
     "name": "stdout",
     "output_type": "stream",
     "text": [
      "['cpu_value host bb2localdomain type_instance idle', 'cpu_value host bb2localdomain type_instance interrupt', 'cpu_value host bb2localdomain type_instance nice', 'cpu_value host bb2localdomain type_instance softirq', 'cpu_value host bb2localdomain type_instance steal', 'cpu_value host bb2localdomain type_instance system', 'cpu_value host bb2localdomain type_instance user', 'cpu_value host bb2localdomain type_instance wait', 'interface_rx host bb2localdomain instance lo type if_dropped', 'interface_rx host bb2localdomain instance lo type if_errors', 'interface_rx host bb2localdomain instance lo type if_octets', 'interface_rx host bb2localdomain instance lo type if_packets', 'interface_rx host bb2localdomain instance wlan0 type if_dropped', 'interface_rx host bb2localdomain instance wlan0 type if_errors', 'interface_rx host bb2localdomain instance wlan0 type if_octets', 'interface_rx host bb2localdomain instance wlan0 type if_packets', 'interface_tx host bb2localdomain instance lo type if_dropped', 'interface_tx host bb2localdomain instance lo type if_errors', 'interface_tx host bb2localdomain instance lo type if_octets', 'interface_tx host bb2localdomain instance lo type if_packets', 'interface_tx host bb2localdomain instance wlan0 type if_dropped', 'interface_tx host bb2localdomain instance wlan0 type if_errors', 'interface_tx host bb2localdomain instance wlan0 type if_octets', 'interface_tx host bb2localdomain instance wlan0 type if_packets', 'disk_io_time host bb2localdomain instance mmcblk1 type disk_io_time', 'disk_io_time host bb2localdomain instance mmcblk1boot0 type disk_io_time', 'disk_io_time host bb2localdomain instance mmcblk1boot1 type disk_io_time', 'disk_io_time host bb2localdomain instance mmcblk1p1 type disk_io_time']\n"
     ]
    }
   ],
   "source": [
    "bb1_columns = list(filter(lambda x: \"bb2l\" in x, all_apps_df.columns))\n",
    "print(bb1_columns)"
   ]
  },
  {
   "cell_type": "code",
   "execution_count": 37,
   "metadata": {},
   "outputs": [
    {
     "name": "stdout",
     "output_type": "stream",
     "text": [
      "(12500, 28)\n",
      "(12500, 28)\n",
      "(12500, 28)\n"
     ]
    }
   ],
   "source": [
    "bb1_all_apps_df = all_apps_df[bb1_columns][:12500].fillna(0)\n",
    "bb1_no_net_df = no_net_df[bb1_columns][:12500].fillna(0)\n",
    "bb1_no_dft_df = no_dft_df[bb1_columns][:12500].fillna(0)\n",
    "print(bb1_all_apps_df.shape)\n",
    "print(bb1_no_net_df.shape)\n",
    "print(bb1_no_dft_df.shape)"
   ]
  },
  {
   "cell_type": "markdown",
   "metadata": {},
   "source": [
    "#### Scale and PCA"
   ]
  },
  {
   "cell_type": "code",
   "execution_count": 38,
   "metadata": {
    "collapsed": true
   },
   "outputs": [],
   "source": [
    "from sklearn.preprocessing import MinMaxScaler\n",
    "from sklearn.preprocessing import StandardScaler\n",
    "from sklearn.decomposition import PCA"
   ]
  },
  {
   "cell_type": "code",
   "execution_count": 39,
   "metadata": {
    "collapsed": true
   },
   "outputs": [],
   "source": [
    "scaler = MinMaxScaler()\n",
    "#scaler = StandardScaler()\n",
    "pca = PCA(n_components=2)"
   ]
  },
  {
   "cell_type": "code",
   "execution_count": 40,
   "metadata": {},
   "outputs": [],
   "source": [
    "no_dft_data = bb1_no_dft_df.as_matrix()\n",
    "no_net_data = bb1_no_net_df.as_matrix()\n",
    "all_apps_data = bb1_all_apps_df.as_matrix()\n",
    "data = numpy.vstack([no_dft_data, no_net_data, all_apps_data])"
   ]
  },
  {
   "cell_type": "code",
   "execution_count": 41,
   "metadata": {},
   "outputs": [
    {
     "data": {
      "text/plain": [
       "MinMaxScaler(copy=True, feature_range=(0, 1))"
      ]
     },
     "execution_count": 41,
     "metadata": {},
     "output_type": "execute_result"
    }
   ],
   "source": [
    "scaler.fit(data)"
   ]
  },
  {
   "cell_type": "code",
   "execution_count": 45,
   "metadata": {},
   "outputs": [
    {
     "data": {
      "text/plain": [
       "PCA(copy=True, iterated_power='auto', n_components=2, random_state=None,\n",
       "  svd_solver='auto', tol=0.0, whiten=False)"
      ]
     },
     "execution_count": 45,
     "metadata": {},
     "output_type": "execute_result"
    }
   ],
   "source": [
    "pca.fit(data)"
   ]
  },
  {
   "cell_type": "code",
   "execution_count": 42,
   "metadata": {
    "collapsed": true
   },
   "outputs": [],
   "source": [
    "# Scale data\n",
    "no_dft_data = scaler.transform(no_dft_data)\n",
    "no_net_data = scaler.transform(no_net_data)\n",
    "all_apps_data = scaler.transform(all_apps_data)"
   ]
  },
  {
   "cell_type": "code",
   "execution_count": 47,
   "metadata": {
    "collapsed": true
   },
   "outputs": [],
   "source": [
    "# Transform using PCA\n",
    "no_dft_data = pca.transform(no_dft_data)\n",
    "no_net_data = pca.transform(no_net_data)\n",
    "all_apps_data = pca.transform(all_apps_data)"
   ]
  },
  {
   "cell_type": "markdown",
   "metadata": {},
   "source": [
    "#### Plot single point instances"
   ]
  },
  {
   "cell_type": "code",
   "execution_count": 57,
   "metadata": {},
   "outputs": [
    {
     "name": "stdout",
     "output_type": "stream",
     "text": [
      "Using matplotlib backend: Qt5Agg\n"
     ]
    }
   ],
   "source": [
    "%matplotlib\n",
    "\n",
    "plotter.scatter(no_dft_data[:,0], no_dft_data[:,1], c='r', marker='+', alpha=0.4)\n",
    "#plotter.legend('No DFT running', loc=0)\n",
    "plotter.scatter(no_net_data[:,0], no_net_data[:,1], c='g', marker='+', alpha=0.4)\n",
    "#plotter.legend('No Broadcast running')\n",
    "plotter.scatter(all_apps_data[:,0], all_apps_data[:,1], c='b', marker='+', alpha=0.4)\n",
    "#plotter.legend('All applications running')\n",
    "plotter.legend([\"(FileIO, Compression, Broadcast)\",\"(FileIO, Compression, DFT)\",\"(FileIO, Compression, DFT, Broadcast)\"])\n",
    "plotter.show()"
   ]
  },
  {
   "cell_type": "markdown",
   "metadata": {},
   "source": [
    "### Try simple autoencoder"
   ]
  },
  {
   "cell_type": "code",
   "execution_count": 43,
   "metadata": {},
   "outputs": [
    {
     "name": "stderr",
     "output_type": "stream",
     "text": [
      "Using TensorFlow backend.\n"
     ]
    }
   ],
   "source": [
    "from keras.models import Model\n",
    "from keras.layers import Dense, Input\n",
    "from keras.callbacks import EarlyStopping"
   ]
  },
  {
   "cell_type": "markdown",
   "metadata": {},
   "source": [
    "Reshape a flatten data from simple AE"
   ]
  },
  {
   "cell_type": "code",
   "execution_count": 44,
   "metadata": {},
   "outputs": [
    {
     "name": "stdout",
     "output_type": "stream",
     "text": [
      "(1250, 10, 28)\n",
      "(1250, 10, 28)\n",
      "(1250, 10, 28)\n",
      "(1250, 280)\n",
      "(1250, 280)\n",
      "(1250, 280)\n"
     ]
    }
   ],
   "source": [
    "n_dim = no_dft_data.shape[1]\n",
    "time_steps = 10\n",
    "no_dft_data = no_dft_data.reshape((-1,time_steps,n_dim))\n",
    "no_net_data = no_net_data.reshape((-1,time_steps,n_dim))\n",
    "all_apps_data = all_apps_data.reshape((-1,time_steps,n_dim))\n",
    "print(no_dft_data.shape)\n",
    "print(no_net_data.shape)\n",
    "print(all_apps_data.shape)\n",
    "batch_dim = no_dft_data.shape[0]\n",
    "no_dft_data = no_dft_data.reshape((batch_dim,-1))\n",
    "no_net_data = no_net_data.reshape((batch_dim,-1))\n",
    "all_apps_data = all_apps_data.reshape((batch_dim,-1))\n",
    "print(no_dft_data.shape)\n",
    "print(no_net_data.shape)\n",
    "print(all_apps_data.shape)"
   ]
  },
  {
   "cell_type": "markdown",
   "metadata": {},
   "source": [
    "Define simple AE model"
   ]
  },
  {
   "cell_type": "markdown",
   "metadata": {},
   "source": [
    "Encoder"
   ]
  },
  {
   "cell_type": "code",
   "execution_count": 65,
   "metadata": {
    "collapsed": true
   },
   "outputs": [],
   "source": [
    "inputs = Input(shape=(time_steps*n_dim,))\n",
    "encoded = Dense(100, activation=\"relu\")(inputs)\n",
    "encoded = Dense(10, activation=\"relu\")(encoded)\n",
    "encoded = Dense(2, activation=\"relu\")(encoded)"
   ]
  },
  {
   "cell_type": "markdown",
   "metadata": {},
   "source": [
    "Decoder"
   ]
  },
  {
   "cell_type": "code",
   "execution_count": 66,
   "metadata": {
    "collapsed": true
   },
   "outputs": [],
   "source": [
    "decoded = Dense(10, activation=\"relu\")(encoded)\n",
    "decoded = Dense(100, activation=\"relu\")(decoded)\n",
    "output = Dense(time_steps*n_dim, activation=\"sigmoid\")(decoded)"
   ]
  },
  {
   "cell_type": "markdown",
   "metadata": {},
   "source": [
    "Define models"
   ]
  },
  {
   "cell_type": "code",
   "execution_count": 67,
   "metadata": {
    "collapsed": true
   },
   "outputs": [],
   "source": [
    "autoencoder = Model(inputs, output)\n",
    "encoder = Model(inputs,encoded)"
   ]
  },
  {
   "cell_type": "markdown",
   "metadata": {},
   "source": [
    "Prepare for training"
   ]
  },
  {
   "cell_type": "code",
   "execution_count": 68,
   "metadata": {},
   "outputs": [
    {
     "name": "stdout",
     "output_type": "stream",
     "text": [
      "Train on 3000 samples, validate on 750 samples\n",
      "Epoch 1/10000\n",
      "3000/3000 [==============================] - 1s 283us/step - loss: 0.0613 - val_loss: 0.0239\n",
      "Epoch 2/10000\n",
      "3000/3000 [==============================] - 0s 104us/step - loss: 0.0059 - val_loss: 0.0208\n",
      "Epoch 3/10000\n",
      "3000/3000 [==============================] - 0s 98us/step - loss: 0.0053 - val_loss: 0.0141\n",
      "Epoch 4/10000\n",
      "3000/3000 [==============================] - 0s 90us/step - loss: 0.0034 - val_loss: 0.0026\n",
      "Epoch 5/10000\n",
      "3000/3000 [==============================] - 0s 90us/step - loss: 0.0023 - val_loss: 0.0023\n",
      "Epoch 6/10000\n",
      "3000/3000 [==============================] - 0s 89us/step - loss: 0.0022 - val_loss: 0.0023\n",
      "Epoch 7/10000\n",
      "3000/3000 [==============================] - 0s 92us/step - loss: 0.0022 - val_loss: 0.0023\n",
      "Epoch 8/10000\n",
      "3000/3000 [==============================] - 0s 89us/step - loss: 0.0021 - val_loss: 0.0023\n",
      "Epoch 9/10000\n",
      "3000/3000 [==============================] - 0s 89us/step - loss: 0.0021 - val_loss: 0.0023\n",
      "Epoch 10/10000\n",
      "3000/3000 [==============================] - 0s 89us/step - loss: 0.0020 - val_loss: 0.0023\n",
      "Epoch 11/10000\n",
      "3000/3000 [==============================] - 0s 91us/step - loss: 0.0020 - val_loss: 0.0023\n"
     ]
    },
    {
     "data": {
      "text/plain": [
       "<keras.callbacks.History at 0x7f10aa98df60>"
      ]
     },
     "execution_count": 68,
     "metadata": {},
     "output_type": "execute_result"
    }
   ],
   "source": [
    "# Prepare data\n",
    "data = numpy.vstack([no_dft_data, no_net_data, all_apps_data])\n",
    "\n",
    "# Prepare model\n",
    "estop = EarlyStopping(monitor='val_loss', min_delta=0.00001, patience=5)\n",
    "autoencoder.compile(optimizer='adam', loss='mean_squared_error')\n",
    "autoencoder.fit(data, data, epochs=10000, callbacks=[estop], validation_split=0.2, shuffle=True)"
   ]
  },
  {
   "cell_type": "code",
   "execution_count": 69,
   "metadata": {
    "collapsed": true
   },
   "outputs": [],
   "source": [
    "dft_t = encoder.predict(no_dft_data)\n",
    "apps_t = encoder.predict(all_apps_data)\n",
    "net_t = encoder.predict(no_net_data)"
   ]
  },
  {
   "cell_type": "code",
   "execution_count": 70,
   "metadata": {},
   "outputs": [
    {
     "name": "stdout",
     "output_type": "stream",
     "text": [
      "Using matplotlib backend: Qt5Agg\n"
     ]
    }
   ],
   "source": [
    "%matplotlib\n",
    "plotter.scatter(dft_t[:,0], dft_t[:,1], c='r', marker='+', alpha=0.4)\n",
    "plotter.scatter(net_t[:,0], net_t[:,1], c='g', marker='+', alpha=0.4)\n",
    "plotter.scatter(apps_t[:,0], apps_t[:,1], c='b', marker='+', alpha=0.4)\n",
    "plotter.legend([\"(FileIO, Compression, Broadcast)\",\"(FileIO, Compression, DFT)\",\"(FileIO, Compression, DFT, Broadcast)\"])\n",
    "plotter.show()"
   ]
  },
  {
   "cell_type": "code",
   "execution_count": null,
   "metadata": {
    "collapsed": true
   },
   "outputs": [],
   "source": []
  }
 ],
 "metadata": {
  "kernelspec": {
   "display_name": "Python 3",
   "language": "python",
   "name": "python3"
  },
  "language_info": {
   "codemirror_mode": {
    "name": "ipython",
    "version": 3
   },
   "file_extension": ".py",
   "mimetype": "text/x-python",
   "name": "python",
   "nbconvert_exporter": "python",
   "pygments_lexer": "ipython3",
   "version": "3.6.2"
  }
 },
 "nbformat": 4,
 "nbformat_minor": 2
}
