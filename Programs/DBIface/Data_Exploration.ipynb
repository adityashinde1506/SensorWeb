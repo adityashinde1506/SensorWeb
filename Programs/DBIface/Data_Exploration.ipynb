{
 "cells": [
  {
   "cell_type": "markdown",
   "metadata": {},
   "source": [
    "# Data Exploration"
   ]
  },
  {
   "cell_type": "markdown",
   "metadata": {},
   "source": [
    "Imports"
   ]
  },
  {
   "cell_type": "code",
   "execution_count": 1,
   "metadata": {},
   "outputs": [],
   "source": [
    "import findspark\n",
    "findspark.init()\n",
    "\n",
    "from pathlib import Path\n",
    "\n",
    "import numpy\n",
    "import pandas\n",
    "import re\n",
    "\n",
    "from pyspark import SparkContext\n",
    "from pyspark.sql import SparkSession"
   ]
  },
  {
   "cell_type": "code",
   "execution_count": 2,
   "metadata": {
    "collapsed": true
   },
   "outputs": [],
   "source": [
    "sc = SparkContext()\n",
    "spark = SparkSession.builder.getOrCreate()"
   ]
  },
  {
   "cell_type": "code",
   "execution_count": 3,
   "metadata": {},
   "outputs": [
    {
     "name": "stdout",
     "output_type": "stream",
     "text": [
      "['2018-02-12 01:00:05+00:00', '480.33333333209157', '0', '0', '0.5', '0', '10.0', '5.5', '0.0', '480.33333333209157', '0', '0', '0.3333333333334849', '0', '9.5', '6.0', '0.0', '480.33333333209157', '0', '0', '1.0', '0', '8.83333333331393', '8.0', '0.0', '480.66666666790843', '0', '0', '0.0', '0', '7.666666666686069', '7.333333333313931', '0.0', '480.0', '0', '0', '0.0', '0', '9.66666666668607', '5.666666666656965', '0.0', '477.0', '0', '0', '0.0', '0', '11.33333333331393', '6.0', '0.0', '480.0', '0', '0', '0.0', '0', '11.0', '5.5', '0.0', '480.5', '0', '0', '0.0', '0', '12.16666666668607', '3.6666666666569654', '0.0', '480.83333333209157', '0', '0', '0.0', '0', '11.33333333331393', '4.833333333343035', '0.0', '479.33333333209157', '0', '0', '0.0', '0', '8.83333333331393', '8.33333333331393', '0.0', '480.5', '0', '0', '0.6666666666669698', '0', '9.83333333331393', '8.0', '0.0', '479.5', '0', '0', '0.0', '0', '12.16666666668607', '6.0', '0.0']\n"
     ]
    }
   ],
   "source": [
    "DATA_DIR = Path(\"/home/adityas/Kaggle/SensorWeb/data/broadcast\")\n",
    "\n",
    "cpu_rdd = sc.textFile(str(DATA_DIR/\"cpu_*.csv\"))\n",
    "cpu_rdd = cpu_rdd.map(lambda x: x.split(\",\"))\n",
    "print(cpu_rdd.first())"
   ]
  },
  {
   "cell_type": "markdown",
   "metadata": {},
   "source": [
    "Define function to read column names from text file."
   ]
  },
  {
   "cell_type": "code",
   "execution_count": 4,
   "metadata": {
    "collapsed": true
   },
   "outputs": [],
   "source": [
    "def get_columns(filename):\n",
    "    \n",
    "    columns = []\n",
    "    \n",
    "    with open(filename,\"r\") as f:\n",
    "        \n",
    "        for line in f.readlines():\n",
    "            columns.append(re.sub(r\"\\(|\\)|\\,|\\.\",\"_\",re.sub(r\"'|\\s\",\"\",line.strip())))\n",
    "            \n",
    "    return columns"
   ]
  },
  {
   "cell_type": "code",
   "execution_count": 5,
   "metadata": {},
   "outputs": [],
   "source": [
    "CPU_COLUMNS = DATA_DIR/\"cpu_columns.txt\"\n",
    "\n",
    "columns = [\"Time\"] + get_columns(str(CPU_COLUMNS))\n"
   ]
  },
  {
   "cell_type": "code",
   "execution_count": 6,
   "metadata": {},
   "outputs": [],
   "source": [
    "#df = spark.createDataFrame(cpu_rdd, schema)\n",
    "df = cpu_rdd.toDF(columns)"
   ]
  },
  {
   "cell_type": "code",
   "execution_count": 7,
   "metadata": {},
   "outputs": [
    {
     "name": "stdout",
     "output_type": "stream",
     "text": [
      "['__class__', '__delattr__', '__dict__', '__dir__', '__doc__', '__eq__', '__format__', '__ge__', '__getattr__', '__getattribute__', '__getitem__', '__gt__', '__hash__', '__init__', '__init_subclass__', '__le__', '__lt__', '__module__', '__ne__', '__new__', '__reduce__', '__reduce_ex__', '__repr__', '__setattr__', '__sizeof__', '__str__', '__subclasshook__', '__weakref__', '_jcols', '_jdf', '_jmap', '_jseq', '_lazy_rdd', '_sc', '_schema', '_sort_cols', 'agg', 'alias', 'approxQuantile', 'cache', 'checkpoint', 'coalesce', 'collect', 'columns', 'corr', 'count', 'cov', 'createGlobalTempView', 'createOrReplaceTempView', 'createTempView', 'crossJoin', 'crosstab', 'cube', 'describe', 'distinct', 'drop', 'dropDuplicates', 'drop_duplicates', 'dropna', 'dtypes', 'explain', 'fillna', 'filter', 'first', 'foreach', 'foreachPartition', 'freqItems', 'groupBy', 'groupby', 'head', 'intersect', 'isLocal', 'isStreaming', 'is_cached', 'join', 'limit', 'na', 'orderBy', 'persist', 'printSchema', 'randomSplit', 'rdd', 'registerTempTable', 'repartition', 'replace', 'rollup', 'sample', 'sampleBy', 'schema', 'select', 'selectExpr', 'show', 'sort', 'sortWithinPartitions', 'sql_ctx', 'stat', 'storageLevel', 'subtract', 'take', 'toDF', 'toJSON', 'toLocalIterator', 'toPandas', 'union', 'unionAll', 'unpersist', 'where', 'withColumn', 'withColumnRenamed', 'withWatermark', 'write', 'writeStream']\n"
     ]
    }
   ],
   "source": [
    "print(dir(df))"
   ]
  },
  {
   "cell_type": "code",
   "execution_count": 8,
   "metadata": {},
   "outputs": [
    {
     "data": {
      "text/plain": [
       "['Time',\n",
       " '_cpu_value___host_bb1_localdomain___type_instance_idle___',\n",
       " '_cpu_value___host_bb1_localdomain___type_instance_interrupt___',\n",
       " '_cpu_value___host_bb1_localdomain___type_instance_nice___',\n",
       " '_cpu_value___host_bb1_localdomain___type_instance_softirq___',\n",
       " '_cpu_value___host_bb1_localdomain___type_instance_steal___',\n",
       " '_cpu_value___host_bb1_localdomain___type_instance_system___',\n",
       " '_cpu_value___host_bb1_localdomain___type_instance_user___',\n",
       " '_cpu_value___host_bb1_localdomain___type_instance_wait___',\n",
       " '_cpu_value___host_bb10_localdomain___type_instance_idle___',\n",
       " '_cpu_value___host_bb10_localdomain___type_instance_interrupt___',\n",
       " '_cpu_value___host_bb10_localdomain___type_instance_nice___',\n",
       " '_cpu_value___host_bb10_localdomain___type_instance_softirq___',\n",
       " '_cpu_value___host_bb10_localdomain___type_instance_steal___',\n",
       " '_cpu_value___host_bb10_localdomain___type_instance_system___',\n",
       " '_cpu_value___host_bb10_localdomain___type_instance_user___',\n",
       " '_cpu_value___host_bb10_localdomain___type_instance_wait___',\n",
       " '_cpu_value___host_bb11_localdomain___type_instance_idle___',\n",
       " '_cpu_value___host_bb11_localdomain___type_instance_interrupt___',\n",
       " '_cpu_value___host_bb11_localdomain___type_instance_nice___',\n",
       " '_cpu_value___host_bb11_localdomain___type_instance_softirq___',\n",
       " '_cpu_value___host_bb11_localdomain___type_instance_steal___',\n",
       " '_cpu_value___host_bb11_localdomain___type_instance_system___',\n",
       " '_cpu_value___host_bb11_localdomain___type_instance_user___',\n",
       " '_cpu_value___host_bb11_localdomain___type_instance_wait___',\n",
       " '_cpu_value___host_bb12_localdomain___type_instance_idle___',\n",
       " '_cpu_value___host_bb12_localdomain___type_instance_interrupt___',\n",
       " '_cpu_value___host_bb12_localdomain___type_instance_nice___',\n",
       " '_cpu_value___host_bb12_localdomain___type_instance_softirq___',\n",
       " '_cpu_value___host_bb12_localdomain___type_instance_steal___',\n",
       " '_cpu_value___host_bb12_localdomain___type_instance_system___',\n",
       " '_cpu_value___host_bb12_localdomain___type_instance_user___',\n",
       " '_cpu_value___host_bb12_localdomain___type_instance_wait___',\n",
       " '_cpu_value___host_bb2_localdomain___type_instance_idle___',\n",
       " '_cpu_value___host_bb2_localdomain___type_instance_interrupt___',\n",
       " '_cpu_value___host_bb2_localdomain___type_instance_nice___',\n",
       " '_cpu_value___host_bb2_localdomain___type_instance_softirq___',\n",
       " '_cpu_value___host_bb2_localdomain___type_instance_steal___',\n",
       " '_cpu_value___host_bb2_localdomain___type_instance_system___',\n",
       " '_cpu_value___host_bb2_localdomain___type_instance_user___',\n",
       " '_cpu_value___host_bb2_localdomain___type_instance_wait___',\n",
       " '_cpu_value___host_bb3_localdomain___type_instance_idle___',\n",
       " '_cpu_value___host_bb3_localdomain___type_instance_interrupt___',\n",
       " '_cpu_value___host_bb3_localdomain___type_instance_nice___',\n",
       " '_cpu_value___host_bb3_localdomain___type_instance_softirq___',\n",
       " '_cpu_value___host_bb3_localdomain___type_instance_steal___',\n",
       " '_cpu_value___host_bb3_localdomain___type_instance_system___',\n",
       " '_cpu_value___host_bb3_localdomain___type_instance_user___',\n",
       " '_cpu_value___host_bb3_localdomain___type_instance_wait___',\n",
       " '_cpu_value___host_bb4_localdomain___type_instance_idle___',\n",
       " '_cpu_value___host_bb4_localdomain___type_instance_interrupt___',\n",
       " '_cpu_value___host_bb4_localdomain___type_instance_nice___',\n",
       " '_cpu_value___host_bb4_localdomain___type_instance_softirq___',\n",
       " '_cpu_value___host_bb4_localdomain___type_instance_steal___',\n",
       " '_cpu_value___host_bb4_localdomain___type_instance_system___',\n",
       " '_cpu_value___host_bb4_localdomain___type_instance_user___',\n",
       " '_cpu_value___host_bb4_localdomain___type_instance_wait___',\n",
       " '_cpu_value___host_bb5_localdomain___type_instance_idle___',\n",
       " '_cpu_value___host_bb5_localdomain___type_instance_interrupt___',\n",
       " '_cpu_value___host_bb5_localdomain___type_instance_nice___',\n",
       " '_cpu_value___host_bb5_localdomain___type_instance_softirq___',\n",
       " '_cpu_value___host_bb5_localdomain___type_instance_steal___',\n",
       " '_cpu_value___host_bb5_localdomain___type_instance_system___',\n",
       " '_cpu_value___host_bb5_localdomain___type_instance_user___',\n",
       " '_cpu_value___host_bb5_localdomain___type_instance_wait___',\n",
       " '_cpu_value___host_bb6_localdomain___type_instance_idle___',\n",
       " '_cpu_value___host_bb6_localdomain___type_instance_interrupt___',\n",
       " '_cpu_value___host_bb6_localdomain___type_instance_nice___',\n",
       " '_cpu_value___host_bb6_localdomain___type_instance_softirq___',\n",
       " '_cpu_value___host_bb6_localdomain___type_instance_steal___',\n",
       " '_cpu_value___host_bb6_localdomain___type_instance_system___',\n",
       " '_cpu_value___host_bb6_localdomain___type_instance_user___',\n",
       " '_cpu_value___host_bb6_localdomain___type_instance_wait___',\n",
       " '_cpu_value___host_bb7_localdomain___type_instance_idle___',\n",
       " '_cpu_value___host_bb7_localdomain___type_instance_interrupt___',\n",
       " '_cpu_value___host_bb7_localdomain___type_instance_nice___',\n",
       " '_cpu_value___host_bb7_localdomain___type_instance_softirq___',\n",
       " '_cpu_value___host_bb7_localdomain___type_instance_steal___',\n",
       " '_cpu_value___host_bb7_localdomain___type_instance_system___',\n",
       " '_cpu_value___host_bb7_localdomain___type_instance_user___',\n",
       " '_cpu_value___host_bb7_localdomain___type_instance_wait___',\n",
       " '_cpu_value___host_bb8_localdomain___type_instance_idle___',\n",
       " '_cpu_value___host_bb8_localdomain___type_instance_interrupt___',\n",
       " '_cpu_value___host_bb8_localdomain___type_instance_nice___',\n",
       " '_cpu_value___host_bb8_localdomain___type_instance_softirq___',\n",
       " '_cpu_value___host_bb8_localdomain___type_instance_steal___',\n",
       " '_cpu_value___host_bb8_localdomain___type_instance_system___',\n",
       " '_cpu_value___host_bb8_localdomain___type_instance_user___',\n",
       " '_cpu_value___host_bb8_localdomain___type_instance_wait___',\n",
       " '_cpu_value___host_bb9_localdomain___type_instance_idle___',\n",
       " '_cpu_value___host_bb9_localdomain___type_instance_interrupt___',\n",
       " '_cpu_value___host_bb9_localdomain___type_instance_nice___',\n",
       " '_cpu_value___host_bb9_localdomain___type_instance_softirq___',\n",
       " '_cpu_value___host_bb9_localdomain___type_instance_steal___',\n",
       " '_cpu_value___host_bb9_localdomain___type_instance_system___',\n",
       " '_cpu_value___host_bb9_localdomain___type_instance_user___',\n",
       " '_cpu_value___host_bb9_localdomain___type_instance_wait___']"
      ]
     },
     "execution_count": 8,
     "metadata": {},
     "output_type": "execute_result"
    }
   ],
   "source": [
    "df.columns"
   ]
  },
  {
   "cell_type": "code",
   "execution_count": 9,
   "metadata": {},
   "outputs": [],
   "source": [
    "for column in df.columns[1:]:\n",
    "    df = df.withColumn(column, df[column].cast(\"float\"))"
   ]
  },
  {
   "cell_type": "code",
   "execution_count": 10,
   "metadata": {},
   "outputs": [
    {
     "data": {
      "text/plain": [
       "[('Time', 'string'),\n",
       " ('_cpu_value___host_bb1_localdomain___type_instance_idle___', 'float'),\n",
       " ('_cpu_value___host_bb1_localdomain___type_instance_interrupt___', 'float'),\n",
       " ('_cpu_value___host_bb1_localdomain___type_instance_nice___', 'float'),\n",
       " ('_cpu_value___host_bb1_localdomain___type_instance_softirq___', 'float'),\n",
       " ('_cpu_value___host_bb1_localdomain___type_instance_steal___', 'float'),\n",
       " ('_cpu_value___host_bb1_localdomain___type_instance_system___', 'float'),\n",
       " ('_cpu_value___host_bb1_localdomain___type_instance_user___', 'float'),\n",
       " ('_cpu_value___host_bb1_localdomain___type_instance_wait___', 'float'),\n",
       " ('_cpu_value___host_bb10_localdomain___type_instance_idle___', 'float'),\n",
       " ('_cpu_value___host_bb10_localdomain___type_instance_interrupt___', 'float'),\n",
       " ('_cpu_value___host_bb10_localdomain___type_instance_nice___', 'float'),\n",
       " ('_cpu_value___host_bb10_localdomain___type_instance_softirq___', 'float'),\n",
       " ('_cpu_value___host_bb10_localdomain___type_instance_steal___', 'float'),\n",
       " ('_cpu_value___host_bb10_localdomain___type_instance_system___', 'float'),\n",
       " ('_cpu_value___host_bb10_localdomain___type_instance_user___', 'float'),\n",
       " ('_cpu_value___host_bb10_localdomain___type_instance_wait___', 'float'),\n",
       " ('_cpu_value___host_bb11_localdomain___type_instance_idle___', 'float'),\n",
       " ('_cpu_value___host_bb11_localdomain___type_instance_interrupt___', 'float'),\n",
       " ('_cpu_value___host_bb11_localdomain___type_instance_nice___', 'float'),\n",
       " ('_cpu_value___host_bb11_localdomain___type_instance_softirq___', 'float'),\n",
       " ('_cpu_value___host_bb11_localdomain___type_instance_steal___', 'float'),\n",
       " ('_cpu_value___host_bb11_localdomain___type_instance_system___', 'float'),\n",
       " ('_cpu_value___host_bb11_localdomain___type_instance_user___', 'float'),\n",
       " ('_cpu_value___host_bb11_localdomain___type_instance_wait___', 'float'),\n",
       " ('_cpu_value___host_bb12_localdomain___type_instance_idle___', 'float'),\n",
       " ('_cpu_value___host_bb12_localdomain___type_instance_interrupt___', 'float'),\n",
       " ('_cpu_value___host_bb12_localdomain___type_instance_nice___', 'float'),\n",
       " ('_cpu_value___host_bb12_localdomain___type_instance_softirq___', 'float'),\n",
       " ('_cpu_value___host_bb12_localdomain___type_instance_steal___', 'float'),\n",
       " ('_cpu_value___host_bb12_localdomain___type_instance_system___', 'float'),\n",
       " ('_cpu_value___host_bb12_localdomain___type_instance_user___', 'float'),\n",
       " ('_cpu_value___host_bb12_localdomain___type_instance_wait___', 'float'),\n",
       " ('_cpu_value___host_bb2_localdomain___type_instance_idle___', 'float'),\n",
       " ('_cpu_value___host_bb2_localdomain___type_instance_interrupt___', 'float'),\n",
       " ('_cpu_value___host_bb2_localdomain___type_instance_nice___', 'float'),\n",
       " ('_cpu_value___host_bb2_localdomain___type_instance_softirq___', 'float'),\n",
       " ('_cpu_value___host_bb2_localdomain___type_instance_steal___', 'float'),\n",
       " ('_cpu_value___host_bb2_localdomain___type_instance_system___', 'float'),\n",
       " ('_cpu_value___host_bb2_localdomain___type_instance_user___', 'float'),\n",
       " ('_cpu_value___host_bb2_localdomain___type_instance_wait___', 'float'),\n",
       " ('_cpu_value___host_bb3_localdomain___type_instance_idle___', 'float'),\n",
       " ('_cpu_value___host_bb3_localdomain___type_instance_interrupt___', 'float'),\n",
       " ('_cpu_value___host_bb3_localdomain___type_instance_nice___', 'float'),\n",
       " ('_cpu_value___host_bb3_localdomain___type_instance_softirq___', 'float'),\n",
       " ('_cpu_value___host_bb3_localdomain___type_instance_steal___', 'float'),\n",
       " ('_cpu_value___host_bb3_localdomain___type_instance_system___', 'float'),\n",
       " ('_cpu_value___host_bb3_localdomain___type_instance_user___', 'float'),\n",
       " ('_cpu_value___host_bb3_localdomain___type_instance_wait___', 'float'),\n",
       " ('_cpu_value___host_bb4_localdomain___type_instance_idle___', 'float'),\n",
       " ('_cpu_value___host_bb4_localdomain___type_instance_interrupt___', 'float'),\n",
       " ('_cpu_value___host_bb4_localdomain___type_instance_nice___', 'float'),\n",
       " ('_cpu_value___host_bb4_localdomain___type_instance_softirq___', 'float'),\n",
       " ('_cpu_value___host_bb4_localdomain___type_instance_steal___', 'float'),\n",
       " ('_cpu_value___host_bb4_localdomain___type_instance_system___', 'float'),\n",
       " ('_cpu_value___host_bb4_localdomain___type_instance_user___', 'float'),\n",
       " ('_cpu_value___host_bb4_localdomain___type_instance_wait___', 'float'),\n",
       " ('_cpu_value___host_bb5_localdomain___type_instance_idle___', 'float'),\n",
       " ('_cpu_value___host_bb5_localdomain___type_instance_interrupt___', 'float'),\n",
       " ('_cpu_value___host_bb5_localdomain___type_instance_nice___', 'float'),\n",
       " ('_cpu_value___host_bb5_localdomain___type_instance_softirq___', 'float'),\n",
       " ('_cpu_value___host_bb5_localdomain___type_instance_steal___', 'float'),\n",
       " ('_cpu_value___host_bb5_localdomain___type_instance_system___', 'float'),\n",
       " ('_cpu_value___host_bb5_localdomain___type_instance_user___', 'float'),\n",
       " ('_cpu_value___host_bb5_localdomain___type_instance_wait___', 'float'),\n",
       " ('_cpu_value___host_bb6_localdomain___type_instance_idle___', 'float'),\n",
       " ('_cpu_value___host_bb6_localdomain___type_instance_interrupt___', 'float'),\n",
       " ('_cpu_value___host_bb6_localdomain___type_instance_nice___', 'float'),\n",
       " ('_cpu_value___host_bb6_localdomain___type_instance_softirq___', 'float'),\n",
       " ('_cpu_value___host_bb6_localdomain___type_instance_steal___', 'float'),\n",
       " ('_cpu_value___host_bb6_localdomain___type_instance_system___', 'float'),\n",
       " ('_cpu_value___host_bb6_localdomain___type_instance_user___', 'float'),\n",
       " ('_cpu_value___host_bb6_localdomain___type_instance_wait___', 'float'),\n",
       " ('_cpu_value___host_bb7_localdomain___type_instance_idle___', 'float'),\n",
       " ('_cpu_value___host_bb7_localdomain___type_instance_interrupt___', 'float'),\n",
       " ('_cpu_value___host_bb7_localdomain___type_instance_nice___', 'float'),\n",
       " ('_cpu_value___host_bb7_localdomain___type_instance_softirq___', 'float'),\n",
       " ('_cpu_value___host_bb7_localdomain___type_instance_steal___', 'float'),\n",
       " ('_cpu_value___host_bb7_localdomain___type_instance_system___', 'float'),\n",
       " ('_cpu_value___host_bb7_localdomain___type_instance_user___', 'float'),\n",
       " ('_cpu_value___host_bb7_localdomain___type_instance_wait___', 'float'),\n",
       " ('_cpu_value___host_bb8_localdomain___type_instance_idle___', 'float'),\n",
       " ('_cpu_value___host_bb8_localdomain___type_instance_interrupt___', 'float'),\n",
       " ('_cpu_value___host_bb8_localdomain___type_instance_nice___', 'float'),\n",
       " ('_cpu_value___host_bb8_localdomain___type_instance_softirq___', 'float'),\n",
       " ('_cpu_value___host_bb8_localdomain___type_instance_steal___', 'float'),\n",
       " ('_cpu_value___host_bb8_localdomain___type_instance_system___', 'float'),\n",
       " ('_cpu_value___host_bb8_localdomain___type_instance_user___', 'float'),\n",
       " ('_cpu_value___host_bb8_localdomain___type_instance_wait___', 'float'),\n",
       " ('_cpu_value___host_bb9_localdomain___type_instance_idle___', 'float'),\n",
       " ('_cpu_value___host_bb9_localdomain___type_instance_interrupt___', 'float'),\n",
       " ('_cpu_value___host_bb9_localdomain___type_instance_nice___', 'float'),\n",
       " ('_cpu_value___host_bb9_localdomain___type_instance_softirq___', 'float'),\n",
       " ('_cpu_value___host_bb9_localdomain___type_instance_steal___', 'float'),\n",
       " ('_cpu_value___host_bb9_localdomain___type_instance_system___', 'float'),\n",
       " ('_cpu_value___host_bb9_localdomain___type_instance_user___', 'float'),\n",
       " ('_cpu_value___host_bb9_localdomain___type_instance_wait___', 'float')]"
      ]
     },
     "execution_count": 10,
     "metadata": {},
     "output_type": "execute_result"
    }
   ],
   "source": [
    "df.dtypes"
   ]
  },
  {
   "cell_type": "code",
   "execution_count": null,
   "metadata": {
    "collapsed": true
   },
   "outputs": [],
   "source": []
  }
 ],
 "metadata": {
  "kernelspec": {
   "display_name": "Python 3",
   "language": "python",
   "name": "python3"
  },
  "language_info": {
   "codemirror_mode": {
    "name": "ipython",
    "version": 3
   },
   "file_extension": ".py",
   "mimetype": "text/x-python",
   "name": "python",
   "nbconvert_exporter": "python",
   "pygments_lexer": "ipython3",
   "version": "3.6.2"
  }
 },
 "nbformat": 4,
 "nbformat_minor": 2
}
