{
 "cells": [
  {
   "cell_type": "markdown",
   "metadata": {},
   "source": [
    "# Data Exploration"
   ]
  },
  {
   "cell_type": "markdown",
   "metadata": {},
   "source": [
    "Imports"
   ]
  },
  {
   "cell_type": "code",
   "execution_count": 1,
   "metadata": {},
   "outputs": [],
   "source": [
    "import findspark\n",
    "findspark.init()\n",
    "\n",
    "from pathlib import Path\n",
    "\n",
    "import numpy\n",
    "import pandas\n",
    "import re\n",
    "\n",
    "from pyspark import SparkContext\n",
    "from pyspark.sql import SparkSession"
   ]
  },
  {
   "cell_type": "code",
   "execution_count": 2,
   "metadata": {
    "collapsed": true
   },
   "outputs": [],
   "source": [
    "sc = SparkContext()\n",
    "spark = SparkSession.builder.getOrCreate()"
   ]
  },
  {
   "cell_type": "code",
   "execution_count": 3,
   "metadata": {},
   "outputs": [
    {
     "name": "stdout",
     "output_type": "stream",
     "text": [
      "['2018-02-12 01:00:05+00:00', '480.33333333209157', '0', '0', '0.5', '0', '10.0', '5.5', '0.0', '480.33333333209157', '0', '0', '0.3333333333334849', '0', '9.5', '6.0', '0.0', '480.33333333209157', '0', '0', '1.0', '0', '8.83333333331393', '8.0', '0.0', '480.66666666790843', '0', '0', '0.0', '0', '7.666666666686069', '7.333333333313931', '0.0', '480.0', '0', '0', '0.0', '0', '9.66666666668607', '5.666666666656965', '0.0', '477.0', '0', '0', '0.0', '0', '11.33333333331393', '6.0', '0.0', '480.0', '0', '0', '0.0', '0', '11.0', '5.5', '0.0', '480.5', '0', '0', '0.0', '0', '12.16666666668607', '3.6666666666569654', '0.0', '480.83333333209157', '0', '0', '0.0', '0', '11.33333333331393', '4.833333333343035', '0.0', '479.33333333209157', '0', '0', '0.0', '0', '8.83333333331393', '8.33333333331393', '0.0', '480.5', '0', '0', '0.6666666666669698', '0', '9.83333333331393', '8.0', '0.0', '479.5', '0', '0', '0.0', '0', '12.16666666668607', '6.0', '0.0']\n"
     ]
    }
   ],
   "source": [
    "DATA_DIR = Path(\"/home/adityas/Kaggle/SensorWeb/data/broadcast\")\n",
    "\n",
    "cpu_rdd = sc.textFile(str(DATA_DIR/\"cpu_*.csv\"))\n",
    "cpu_rdd = cpu_rdd.map(lambda x: x.split(\",\"))\n",
    "print(cpu_rdd.first())"
   ]
  },
  {
   "cell_type": "markdown",
   "metadata": {},
   "source": [
    "Define function to read column names from text file."
   ]
  },
  {
   "cell_type": "code",
   "execution_count": 10,
   "metadata": {
    "collapsed": true
   },
   "outputs": [],
   "source": [
    "def get_columns(filename):\n",
    "    \n",
    "    columns = []\n",
    "    \n",
    "    with open(filename,\"r\") as f:\n",
    "        \n",
    "        for line in f.readlines():\n",
    "            columns.append(re.sub(r\"\\(|\\)|\\,|\\.\",\"_\",re.sub(r\"'|\\s\",\"\",line.strip())))\n",
    "            \n",
    "    return columns"
   ]
  },
  {
   "cell_type": "code",
   "execution_count": 11,
   "metadata": {},
   "outputs": [],
   "source": [
    "CPU_COLUMNS = DATA_DIR/\"cpu_columns.txt\"\n",
    "\n",
    "columns = [\"Time\"] + get_columns(str(CPU_COLUMNS))\n"
   ]
  },
  {
   "cell_type": "code",
   "execution_count": 12,
   "metadata": {},
   "outputs": [],
   "source": [
    "#df = spark.createDataFrame(cpu_rdd, schema)\n",
    "df = cpu_rdd.toDF(columns)"
   ]
  },
  {
   "cell_type": "code",
   "execution_count": 13,
   "metadata": {},
   "outputs": [
    {
     "name": "stdout",
     "output_type": "stream",
     "text": [
      "['__class__', '__delattr__', '__dict__', '__dir__', '__doc__', '__eq__', '__format__', '__ge__', '__getattr__', '__getattribute__', '__getitem__', '__gt__', '__hash__', '__init__', '__init_subclass__', '__le__', '__lt__', '__module__', '__ne__', '__new__', '__reduce__', '__reduce_ex__', '__repr__', '__setattr__', '__sizeof__', '__str__', '__subclasshook__', '__weakref__', '_jcols', '_jdf', '_jmap', '_jseq', '_lazy_rdd', '_sc', '_schema', '_sort_cols', 'agg', 'alias', 'approxQuantile', 'cache', 'checkpoint', 'coalesce', 'collect', 'columns', 'corr', 'count', 'cov', 'createGlobalTempView', 'createOrReplaceTempView', 'createTempView', 'crossJoin', 'crosstab', 'cube', 'describe', 'distinct', 'drop', 'dropDuplicates', 'drop_duplicates', 'dropna', 'dtypes', 'explain', 'fillna', 'filter', 'first', 'foreach', 'foreachPartition', 'freqItems', 'groupBy', 'groupby', 'head', 'intersect', 'isLocal', 'isStreaming', 'is_cached', 'join', 'limit', 'na', 'orderBy', 'persist', 'printSchema', 'randomSplit', 'rdd', 'registerTempTable', 'repartition', 'replace', 'rollup', 'sample', 'sampleBy', 'schema', 'select', 'selectExpr', 'show', 'sort', 'sortWithinPartitions', 'sql_ctx', 'stat', 'storageLevel', 'subtract', 'take', 'toDF', 'toJSON', 'toLocalIterator', 'toPandas', 'union', 'unionAll', 'unpersist', 'where', 'withColumn', 'withColumnRenamed', 'withWatermark', 'write', 'writeStream']\n"
     ]
    }
   ],
   "source": [
    "print(dir(df))"
   ]
  },
  {
   "cell_type": "code",
   "execution_count": 14,
   "metadata": {},
   "outputs": [
    {
     "data": {
      "text/plain": [
       "['Time',\n",
       " '_cpu_value___host_bb1.localdomain___type_instance_idle___',\n",
       " '_cpu_value___host_bb1.localdomain___type_instance_interrupt___',\n",
       " '_cpu_value___host_bb1.localdomain___type_instance_nice___',\n",
       " '_cpu_value___host_bb1.localdomain___type_instance_softirq___',\n",
       " '_cpu_value___host_bb1.localdomain___type_instance_steal___',\n",
       " '_cpu_value___host_bb1.localdomain___type_instance_system___',\n",
       " '_cpu_value___host_bb1.localdomain___type_instance_user___',\n",
       " '_cpu_value___host_bb1.localdomain___type_instance_wait___',\n",
       " '_cpu_value___host_bb10.localdomain___type_instance_idle___',\n",
       " '_cpu_value___host_bb10.localdomain___type_instance_interrupt___',\n",
       " '_cpu_value___host_bb10.localdomain___type_instance_nice___',\n",
       " '_cpu_value___host_bb10.localdomain___type_instance_softirq___',\n",
       " '_cpu_value___host_bb10.localdomain___type_instance_steal___',\n",
       " '_cpu_value___host_bb10.localdomain___type_instance_system___',\n",
       " '_cpu_value___host_bb10.localdomain___type_instance_user___',\n",
       " '_cpu_value___host_bb10.localdomain___type_instance_wait___',\n",
       " '_cpu_value___host_bb11.localdomain___type_instance_idle___',\n",
       " '_cpu_value___host_bb11.localdomain___type_instance_interrupt___',\n",
       " '_cpu_value___host_bb11.localdomain___type_instance_nice___',\n",
       " '_cpu_value___host_bb11.localdomain___type_instance_softirq___',\n",
       " '_cpu_value___host_bb11.localdomain___type_instance_steal___',\n",
       " '_cpu_value___host_bb11.localdomain___type_instance_system___',\n",
       " '_cpu_value___host_bb11.localdomain___type_instance_user___',\n",
       " '_cpu_value___host_bb11.localdomain___type_instance_wait___',\n",
       " '_cpu_value___host_bb12.localdomain___type_instance_idle___',\n",
       " '_cpu_value___host_bb12.localdomain___type_instance_interrupt___',\n",
       " '_cpu_value___host_bb12.localdomain___type_instance_nice___',\n",
       " '_cpu_value___host_bb12.localdomain___type_instance_softirq___',\n",
       " '_cpu_value___host_bb12.localdomain___type_instance_steal___',\n",
       " '_cpu_value___host_bb12.localdomain___type_instance_system___',\n",
       " '_cpu_value___host_bb12.localdomain___type_instance_user___',\n",
       " '_cpu_value___host_bb12.localdomain___type_instance_wait___',\n",
       " '_cpu_value___host_bb2.localdomain___type_instance_idle___',\n",
       " '_cpu_value___host_bb2.localdomain___type_instance_interrupt___',\n",
       " '_cpu_value___host_bb2.localdomain___type_instance_nice___',\n",
       " '_cpu_value___host_bb2.localdomain___type_instance_softirq___',\n",
       " '_cpu_value___host_bb2.localdomain___type_instance_steal___',\n",
       " '_cpu_value___host_bb2.localdomain___type_instance_system___',\n",
       " '_cpu_value___host_bb2.localdomain___type_instance_user___',\n",
       " '_cpu_value___host_bb2.localdomain___type_instance_wait___',\n",
       " '_cpu_value___host_bb3.localdomain___type_instance_idle___',\n",
       " '_cpu_value___host_bb3.localdomain___type_instance_interrupt___',\n",
       " '_cpu_value___host_bb3.localdomain___type_instance_nice___',\n",
       " '_cpu_value___host_bb3.localdomain___type_instance_softirq___',\n",
       " '_cpu_value___host_bb3.localdomain___type_instance_steal___',\n",
       " '_cpu_value___host_bb3.localdomain___type_instance_system___',\n",
       " '_cpu_value___host_bb3.localdomain___type_instance_user___',\n",
       " '_cpu_value___host_bb3.localdomain___type_instance_wait___',\n",
       " '_cpu_value___host_bb4.localdomain___type_instance_idle___',\n",
       " '_cpu_value___host_bb4.localdomain___type_instance_interrupt___',\n",
       " '_cpu_value___host_bb4.localdomain___type_instance_nice___',\n",
       " '_cpu_value___host_bb4.localdomain___type_instance_softirq___',\n",
       " '_cpu_value___host_bb4.localdomain___type_instance_steal___',\n",
       " '_cpu_value___host_bb4.localdomain___type_instance_system___',\n",
       " '_cpu_value___host_bb4.localdomain___type_instance_user___',\n",
       " '_cpu_value___host_bb4.localdomain___type_instance_wait___',\n",
       " '_cpu_value___host_bb5.localdomain___type_instance_idle___',\n",
       " '_cpu_value___host_bb5.localdomain___type_instance_interrupt___',\n",
       " '_cpu_value___host_bb5.localdomain___type_instance_nice___',\n",
       " '_cpu_value___host_bb5.localdomain___type_instance_softirq___',\n",
       " '_cpu_value___host_bb5.localdomain___type_instance_steal___',\n",
       " '_cpu_value___host_bb5.localdomain___type_instance_system___',\n",
       " '_cpu_value___host_bb5.localdomain___type_instance_user___',\n",
       " '_cpu_value___host_bb5.localdomain___type_instance_wait___',\n",
       " '_cpu_value___host_bb6.localdomain___type_instance_idle___',\n",
       " '_cpu_value___host_bb6.localdomain___type_instance_interrupt___',\n",
       " '_cpu_value___host_bb6.localdomain___type_instance_nice___',\n",
       " '_cpu_value___host_bb6.localdomain___type_instance_softirq___',\n",
       " '_cpu_value___host_bb6.localdomain___type_instance_steal___',\n",
       " '_cpu_value___host_bb6.localdomain___type_instance_system___',\n",
       " '_cpu_value___host_bb6.localdomain___type_instance_user___',\n",
       " '_cpu_value___host_bb6.localdomain___type_instance_wait___',\n",
       " '_cpu_value___host_bb7.localdomain___type_instance_idle___',\n",
       " '_cpu_value___host_bb7.localdomain___type_instance_interrupt___',\n",
       " '_cpu_value___host_bb7.localdomain___type_instance_nice___',\n",
       " '_cpu_value___host_bb7.localdomain___type_instance_softirq___',\n",
       " '_cpu_value___host_bb7.localdomain___type_instance_steal___',\n",
       " '_cpu_value___host_bb7.localdomain___type_instance_system___',\n",
       " '_cpu_value___host_bb7.localdomain___type_instance_user___',\n",
       " '_cpu_value___host_bb7.localdomain___type_instance_wait___',\n",
       " '_cpu_value___host_bb8.localdomain___type_instance_idle___',\n",
       " '_cpu_value___host_bb8.localdomain___type_instance_interrupt___',\n",
       " '_cpu_value___host_bb8.localdomain___type_instance_nice___',\n",
       " '_cpu_value___host_bb8.localdomain___type_instance_softirq___',\n",
       " '_cpu_value___host_bb8.localdomain___type_instance_steal___',\n",
       " '_cpu_value___host_bb8.localdomain___type_instance_system___',\n",
       " '_cpu_value___host_bb8.localdomain___type_instance_user___',\n",
       " '_cpu_value___host_bb8.localdomain___type_instance_wait___',\n",
       " '_cpu_value___host_bb9.localdomain___type_instance_idle___',\n",
       " '_cpu_value___host_bb9.localdomain___type_instance_interrupt___',\n",
       " '_cpu_value___host_bb9.localdomain___type_instance_nice___',\n",
       " '_cpu_value___host_bb9.localdomain___type_instance_softirq___',\n",
       " '_cpu_value___host_bb9.localdomain___type_instance_steal___',\n",
       " '_cpu_value___host_bb9.localdomain___type_instance_system___',\n",
       " '_cpu_value___host_bb9.localdomain___type_instance_user___',\n",
       " '_cpu_value___host_bb9.localdomain___type_instance_wait___']"
      ]
     },
     "execution_count": 14,
     "metadata": {},
     "output_type": "execute_result"
    }
   ],
   "source": [
    "df.columns"
   ]
  },
  {
   "cell_type": "code",
   "execution_count": 15,
   "metadata": {},
   "outputs": [
    {
     "ename": "AnalysisException",
     "evalue": "'Cannot resolve column name \"_cpu_value___host_bb1.localdomain___type_instance_idle___\" among (Time, _cpu_value___host_bb1.localdomain___type_instance_idle___, _cpu_value___host_bb1.localdomain___type_instance_interrupt___, _cpu_value___host_bb1.localdomain___type_instance_nice___, _cpu_value___host_bb1.localdomain___type_instance_softirq___, _cpu_value___host_bb1.localdomain___type_instance_steal___, _cpu_value___host_bb1.localdomain___type_instance_system___, _cpu_value___host_bb1.localdomain___type_instance_user___, _cpu_value___host_bb1.localdomain___type_instance_wait___, _cpu_value___host_bb10.localdomain___type_instance_idle___, _cpu_value___host_bb10.localdomain___type_instance_interrupt___, _cpu_value___host_bb10.localdomain___type_instance_nice___, _cpu_value___host_bb10.localdomain___type_instance_softirq___, _cpu_value___host_bb10.localdomain___type_instance_steal___, _cpu_value___host_bb10.localdomain___type_instance_system___, _cpu_value___host_bb10.localdomain___type_instance_user___, _cpu_value___host_bb10.localdomain___type_instance_wait___, _cpu_value___host_bb11.localdomain___type_instance_idle___, _cpu_value___host_bb11.localdomain___type_instance_interrupt___, _cpu_value___host_bb11.localdomain___type_instance_nice___, _cpu_value___host_bb11.localdomain___type_instance_softirq___, _cpu_value___host_bb11.localdomain___type_instance_steal___, _cpu_value___host_bb11.localdomain___type_instance_system___, _cpu_value___host_bb11.localdomain___type_instance_user___, _cpu_value___host_bb11.localdomain___type_instance_wait___, _cpu_value___host_bb12.localdomain___type_instance_idle___, _cpu_value___host_bb12.localdomain___type_instance_interrupt___, _cpu_value___host_bb12.localdomain___type_instance_nice___, _cpu_value___host_bb12.localdomain___type_instance_softirq___, _cpu_value___host_bb12.localdomain___type_instance_steal___, _cpu_value___host_bb12.localdomain___type_instance_system___, _cpu_value___host_bb12.localdomain___type_instance_user___, _cpu_value___host_bb12.localdomain___type_instance_wait___, _cpu_value___host_bb2.localdomain___type_instance_idle___, _cpu_value___host_bb2.localdomain___type_instance_interrupt___, _cpu_value___host_bb2.localdomain___type_instance_nice___, _cpu_value___host_bb2.localdomain___type_instance_softirq___, _cpu_value___host_bb2.localdomain___type_instance_steal___, _cpu_value___host_bb2.localdomain___type_instance_system___, _cpu_value___host_bb2.localdomain___type_instance_user___, _cpu_value___host_bb2.localdomain___type_instance_wait___, _cpu_value___host_bb3.localdomain___type_instance_idle___, _cpu_value___host_bb3.localdomain___type_instance_interrupt___, _cpu_value___host_bb3.localdomain___type_instance_nice___, _cpu_value___host_bb3.localdomain___type_instance_softirq___, _cpu_value___host_bb3.localdomain___type_instance_steal___, _cpu_value___host_bb3.localdomain___type_instance_system___, _cpu_value___host_bb3.localdomain___type_instance_user___, _cpu_value___host_bb3.localdomain___type_instance_wait___, _cpu_value___host_bb4.localdomain___type_instance_idle___, _cpu_value___host_bb4.localdomain___type_instance_interrupt___, _cpu_value___host_bb4.localdomain___type_instance_nice___, _cpu_value___host_bb4.localdomain___type_instance_softirq___, _cpu_value___host_bb4.localdomain___type_instance_steal___, _cpu_value___host_bb4.localdomain___type_instance_system___, _cpu_value___host_bb4.localdomain___type_instance_user___, _cpu_value___host_bb4.localdomain___type_instance_wait___, _cpu_value___host_bb5.localdomain___type_instance_idle___, _cpu_value___host_bb5.localdomain___type_instance_interrupt___, _cpu_value___host_bb5.localdomain___type_instance_nice___, _cpu_value___host_bb5.localdomain___type_instance_softirq___, _cpu_value___host_bb5.localdomain___type_instance_steal___, _cpu_value___host_bb5.localdomain___type_instance_system___, _cpu_value___host_bb5.localdomain___type_instance_user___, _cpu_value___host_bb5.localdomain___type_instance_wait___, _cpu_value___host_bb6.localdomain___type_instance_idle___, _cpu_value___host_bb6.localdomain___type_instance_interrupt___, _cpu_value___host_bb6.localdomain___type_instance_nice___, _cpu_value___host_bb6.localdomain___type_instance_softirq___, _cpu_value___host_bb6.localdomain___type_instance_steal___, _cpu_value___host_bb6.localdomain___type_instance_system___, _cpu_value___host_bb6.localdomain___type_instance_user___, _cpu_value___host_bb6.localdomain___type_instance_wait___, _cpu_value___host_bb7.localdomain___type_instance_idle___, _cpu_value___host_bb7.localdomain___type_instance_interrupt___, _cpu_value___host_bb7.localdomain___type_instance_nice___, _cpu_value___host_bb7.localdomain___type_instance_softirq___, _cpu_value___host_bb7.localdomain___type_instance_steal___, _cpu_value___host_bb7.localdomain___type_instance_system___, _cpu_value___host_bb7.localdomain___type_instance_user___, _cpu_value___host_bb7.localdomain___type_instance_wait___, _cpu_value___host_bb8.localdomain___type_instance_idle___, _cpu_value___host_bb8.localdomain___type_instance_interrupt___, _cpu_value___host_bb8.localdomain___type_instance_nice___, _cpu_value___host_bb8.localdomain___type_instance_softirq___, _cpu_value___host_bb8.localdomain___type_instance_steal___, _cpu_value___host_bb8.localdomain___type_instance_system___, _cpu_value___host_bb8.localdomain___type_instance_user___, _cpu_value___host_bb8.localdomain___type_instance_wait___, _cpu_value___host_bb9.localdomain___type_instance_idle___, _cpu_value___host_bb9.localdomain___type_instance_interrupt___, _cpu_value___host_bb9.localdomain___type_instance_nice___, _cpu_value___host_bb9.localdomain___type_instance_softirq___, _cpu_value___host_bb9.localdomain___type_instance_steal___, _cpu_value___host_bb9.localdomain___type_instance_system___, _cpu_value___host_bb9.localdomain___type_instance_user___, _cpu_value___host_bb9.localdomain___type_instance_wait___);'",
     "output_type": "error",
     "traceback": [
      "\u001b[0;31m---------------------------------------------------------------------------\u001b[0m",
      "\u001b[0;31mPy4JJavaError\u001b[0m                             Traceback (most recent call last)",
      "\u001b[0;32m~/Apps/Spark/spark/python/pyspark/sql/utils.py\u001b[0m in \u001b[0;36mdeco\u001b[0;34m(*a, **kw)\u001b[0m\n\u001b[1;32m     62\u001b[0m         \u001b[0;32mtry\u001b[0m\u001b[0;34m:\u001b[0m\u001b[0;34m\u001b[0m\u001b[0m\n\u001b[0;32m---> 63\u001b[0;31m             \u001b[0;32mreturn\u001b[0m \u001b[0mf\u001b[0m\u001b[0;34m(\u001b[0m\u001b[0;34m*\u001b[0m\u001b[0ma\u001b[0m\u001b[0;34m,\u001b[0m \u001b[0;34m**\u001b[0m\u001b[0mkw\u001b[0m\u001b[0;34m)\u001b[0m\u001b[0;34m\u001b[0m\u001b[0m\n\u001b[0m\u001b[1;32m     64\u001b[0m         \u001b[0;32mexcept\u001b[0m \u001b[0mpy4j\u001b[0m\u001b[0;34m.\u001b[0m\u001b[0mprotocol\u001b[0m\u001b[0;34m.\u001b[0m\u001b[0mPy4JJavaError\u001b[0m \u001b[0;32mas\u001b[0m \u001b[0me\u001b[0m\u001b[0;34m:\u001b[0m\u001b[0;34m\u001b[0m\u001b[0m\n",
      "\u001b[0;32m~/Apps/Spark/spark/python/lib/py4j-0.10.4-src.zip/py4j/protocol.py\u001b[0m in \u001b[0;36mget_return_value\u001b[0;34m(answer, gateway_client, target_id, name)\u001b[0m\n\u001b[1;32m    318\u001b[0m                     \u001b[0;34m\"An error occurred while calling {0}{1}{2}.\\n\"\u001b[0m\u001b[0;34m.\u001b[0m\u001b[0;34m\u001b[0m\u001b[0m\n\u001b[0;32m--> 319\u001b[0;31m                     format(target_id, \".\", name), value)\n\u001b[0m\u001b[1;32m    320\u001b[0m             \u001b[0;32melse\u001b[0m\u001b[0;34m:\u001b[0m\u001b[0;34m\u001b[0m\u001b[0m\n",
      "\u001b[0;31mPy4JJavaError\u001b[0m: An error occurred while calling o74.apply.\n: org.apache.spark.sql.AnalysisException: Cannot resolve column name \"_cpu_value___host_bb1.localdomain___type_instance_idle___\" among (Time, _cpu_value___host_bb1.localdomain___type_instance_idle___, _cpu_value___host_bb1.localdomain___type_instance_interrupt___, _cpu_value___host_bb1.localdomain___type_instance_nice___, _cpu_value___host_bb1.localdomain___type_instance_softirq___, _cpu_value___host_bb1.localdomain___type_instance_steal___, _cpu_value___host_bb1.localdomain___type_instance_system___, _cpu_value___host_bb1.localdomain___type_instance_user___, _cpu_value___host_bb1.localdomain___type_instance_wait___, _cpu_value___host_bb10.localdomain___type_instance_idle___, _cpu_value___host_bb10.localdomain___type_instance_interrupt___, _cpu_value___host_bb10.localdomain___type_instance_nice___, _cpu_value___host_bb10.localdomain___type_instance_softirq___, _cpu_value___host_bb10.localdomain___type_instance_steal___, _cpu_value___host_bb10.localdomain___type_instance_system___, _cpu_value___host_bb10.localdomain___type_instance_user___, _cpu_value___host_bb10.localdomain___type_instance_wait___, _cpu_value___host_bb11.localdomain___type_instance_idle___, _cpu_value___host_bb11.localdomain___type_instance_interrupt___, _cpu_value___host_bb11.localdomain___type_instance_nice___, _cpu_value___host_bb11.localdomain___type_instance_softirq___, _cpu_value___host_bb11.localdomain___type_instance_steal___, _cpu_value___host_bb11.localdomain___type_instance_system___, _cpu_value___host_bb11.localdomain___type_instance_user___, _cpu_value___host_bb11.localdomain___type_instance_wait___, _cpu_value___host_bb12.localdomain___type_instance_idle___, _cpu_value___host_bb12.localdomain___type_instance_interrupt___, _cpu_value___host_bb12.localdomain___type_instance_nice___, _cpu_value___host_bb12.localdomain___type_instance_softirq___, _cpu_value___host_bb12.localdomain___type_instance_steal___, _cpu_value___host_bb12.localdomain___type_instance_system___, _cpu_value___host_bb12.localdomain___type_instance_user___, _cpu_value___host_bb12.localdomain___type_instance_wait___, _cpu_value___host_bb2.localdomain___type_instance_idle___, _cpu_value___host_bb2.localdomain___type_instance_interrupt___, _cpu_value___host_bb2.localdomain___type_instance_nice___, _cpu_value___host_bb2.localdomain___type_instance_softirq___, _cpu_value___host_bb2.localdomain___type_instance_steal___, _cpu_value___host_bb2.localdomain___type_instance_system___, _cpu_value___host_bb2.localdomain___type_instance_user___, _cpu_value___host_bb2.localdomain___type_instance_wait___, _cpu_value___host_bb3.localdomain___type_instance_idle___, _cpu_value___host_bb3.localdomain___type_instance_interrupt___, _cpu_value___host_bb3.localdomain___type_instance_nice___, _cpu_value___host_bb3.localdomain___type_instance_softirq___, _cpu_value___host_bb3.localdomain___type_instance_steal___, _cpu_value___host_bb3.localdomain___type_instance_system___, _cpu_value___host_bb3.localdomain___type_instance_user___, _cpu_value___host_bb3.localdomain___type_instance_wait___, _cpu_value___host_bb4.localdomain___type_instance_idle___, _cpu_value___host_bb4.localdomain___type_instance_interrupt___, _cpu_value___host_bb4.localdomain___type_instance_nice___, _cpu_value___host_bb4.localdomain___type_instance_softirq___, _cpu_value___host_bb4.localdomain___type_instance_steal___, _cpu_value___host_bb4.localdomain___type_instance_system___, _cpu_value___host_bb4.localdomain___type_instance_user___, _cpu_value___host_bb4.localdomain___type_instance_wait___, _cpu_value___host_bb5.localdomain___type_instance_idle___, _cpu_value___host_bb5.localdomain___type_instance_interrupt___, _cpu_value___host_bb5.localdomain___type_instance_nice___, _cpu_value___host_bb5.localdomain___type_instance_softirq___, _cpu_value___host_bb5.localdomain___type_instance_steal___, _cpu_value___host_bb5.localdomain___type_instance_system___, _cpu_value___host_bb5.localdomain___type_instance_user___, _cpu_value___host_bb5.localdomain___type_instance_wait___, _cpu_value___host_bb6.localdomain___type_instance_idle___, _cpu_value___host_bb6.localdomain___type_instance_interrupt___, _cpu_value___host_bb6.localdomain___type_instance_nice___, _cpu_value___host_bb6.localdomain___type_instance_softirq___, _cpu_value___host_bb6.localdomain___type_instance_steal___, _cpu_value___host_bb6.localdomain___type_instance_system___, _cpu_value___host_bb6.localdomain___type_instance_user___, _cpu_value___host_bb6.localdomain___type_instance_wait___, _cpu_value___host_bb7.localdomain___type_instance_idle___, _cpu_value___host_bb7.localdomain___type_instance_interrupt___, _cpu_value___host_bb7.localdomain___type_instance_nice___, _cpu_value___host_bb7.localdomain___type_instance_softirq___, _cpu_value___host_bb7.localdomain___type_instance_steal___, _cpu_value___host_bb7.localdomain___type_instance_system___, _cpu_value___host_bb7.localdomain___type_instance_user___, _cpu_value___host_bb7.localdomain___type_instance_wait___, _cpu_value___host_bb8.localdomain___type_instance_idle___, _cpu_value___host_bb8.localdomain___type_instance_interrupt___, _cpu_value___host_bb8.localdomain___type_instance_nice___, _cpu_value___host_bb8.localdomain___type_instance_softirq___, _cpu_value___host_bb8.localdomain___type_instance_steal___, _cpu_value___host_bb8.localdomain___type_instance_system___, _cpu_value___host_bb8.localdomain___type_instance_user___, _cpu_value___host_bb8.localdomain___type_instance_wait___, _cpu_value___host_bb9.localdomain___type_instance_idle___, _cpu_value___host_bb9.localdomain___type_instance_interrupt___, _cpu_value___host_bb9.localdomain___type_instance_nice___, _cpu_value___host_bb9.localdomain___type_instance_softirq___, _cpu_value___host_bb9.localdomain___type_instance_steal___, _cpu_value___host_bb9.localdomain___type_instance_system___, _cpu_value___host_bb9.localdomain___type_instance_user___, _cpu_value___host_bb9.localdomain___type_instance_wait___);\n\tat org.apache.spark.sql.Dataset$$anonfun$resolve$1.apply(Dataset.scala:219)\n\tat org.apache.spark.sql.Dataset$$anonfun$resolve$1.apply(Dataset.scala:219)\n\tat scala.Option.getOrElse(Option.scala:121)\n\tat org.apache.spark.sql.Dataset.resolve(Dataset.scala:218)\n\tat org.apache.spark.sql.Dataset.col(Dataset.scala:1083)\n\tat org.apache.spark.sql.Dataset.apply(Dataset.scala:1069)\n\tat sun.reflect.NativeMethodAccessorImpl.invoke0(Native Method)\n\tat sun.reflect.NativeMethodAccessorImpl.invoke(NativeMethodAccessorImpl.java:62)\n\tat sun.reflect.DelegatingMethodAccessorImpl.invoke(DelegatingMethodAccessorImpl.java:43)\n\tat java.lang.reflect.Method.invoke(Method.java:498)\n\tat py4j.reflection.MethodInvoker.invoke(MethodInvoker.java:244)\n\tat py4j.reflection.ReflectionEngine.invoke(ReflectionEngine.java:357)\n\tat py4j.Gateway.invoke(Gateway.java:280)\n\tat py4j.commands.AbstractCommand.invokeMethod(AbstractCommand.java:132)\n\tat py4j.commands.CallCommand.execute(CallCommand.java:79)\n\tat py4j.GatewayConnection.run(GatewayConnection.java:214)\n\tat java.lang.Thread.run(Thread.java:748)\n",
      "\nDuring handling of the above exception, another exception occurred:\n",
      "\u001b[0;31mAnalysisException\u001b[0m                         Traceback (most recent call last)",
      "\u001b[0;32m<ipython-input-15-c99902fca927>\u001b[0m in \u001b[0;36m<module>\u001b[0;34m()\u001b[0m\n\u001b[0;32m----> 1\u001b[0;31m \u001b[0mdf\u001b[0m\u001b[0;34m[\u001b[0m\u001b[0mdf\u001b[0m\u001b[0;34m.\u001b[0m\u001b[0mcolumns\u001b[0m\u001b[0;34m[\u001b[0m\u001b[0;36m1\u001b[0m\u001b[0;34m]\u001b[0m\u001b[0;34m]\u001b[0m\u001b[0;34m\u001b[0m\u001b[0m\n\u001b[0m",
      "\u001b[0;32m~/Apps/Spark/spark/python/pyspark/sql/dataframe.py\u001b[0m in \u001b[0;36m__getitem__\u001b[0;34m(self, item)\u001b[0m\n\u001b[1;32m    950\u001b[0m         \"\"\"\n\u001b[1;32m    951\u001b[0m         \u001b[0;32mif\u001b[0m \u001b[0misinstance\u001b[0m\u001b[0;34m(\u001b[0m\u001b[0mitem\u001b[0m\u001b[0;34m,\u001b[0m \u001b[0mbasestring\u001b[0m\u001b[0;34m)\u001b[0m\u001b[0;34m:\u001b[0m\u001b[0;34m\u001b[0m\u001b[0m\n\u001b[0;32m--> 952\u001b[0;31m             \u001b[0mjc\u001b[0m \u001b[0;34m=\u001b[0m \u001b[0mself\u001b[0m\u001b[0;34m.\u001b[0m\u001b[0m_jdf\u001b[0m\u001b[0;34m.\u001b[0m\u001b[0mapply\u001b[0m\u001b[0;34m(\u001b[0m\u001b[0mitem\u001b[0m\u001b[0;34m)\u001b[0m\u001b[0;34m\u001b[0m\u001b[0m\n\u001b[0m\u001b[1;32m    953\u001b[0m             \u001b[0;32mreturn\u001b[0m \u001b[0mColumn\u001b[0m\u001b[0;34m(\u001b[0m\u001b[0mjc\u001b[0m\u001b[0;34m)\u001b[0m\u001b[0;34m\u001b[0m\u001b[0m\n\u001b[1;32m    954\u001b[0m         \u001b[0;32melif\u001b[0m \u001b[0misinstance\u001b[0m\u001b[0;34m(\u001b[0m\u001b[0mitem\u001b[0m\u001b[0;34m,\u001b[0m \u001b[0mColumn\u001b[0m\u001b[0;34m)\u001b[0m\u001b[0;34m:\u001b[0m\u001b[0;34m\u001b[0m\u001b[0m\n",
      "\u001b[0;32m~/Apps/Spark/spark/python/lib/py4j-0.10.4-src.zip/py4j/java_gateway.py\u001b[0m in \u001b[0;36m__call__\u001b[0;34m(self, *args)\u001b[0m\n\u001b[1;32m   1131\u001b[0m         \u001b[0manswer\u001b[0m \u001b[0;34m=\u001b[0m \u001b[0mself\u001b[0m\u001b[0;34m.\u001b[0m\u001b[0mgateway_client\u001b[0m\u001b[0;34m.\u001b[0m\u001b[0msend_command\u001b[0m\u001b[0;34m(\u001b[0m\u001b[0mcommand\u001b[0m\u001b[0;34m)\u001b[0m\u001b[0;34m\u001b[0m\u001b[0m\n\u001b[1;32m   1132\u001b[0m         return_value = get_return_value(\n\u001b[0;32m-> 1133\u001b[0;31m             answer, self.gateway_client, self.target_id, self.name)\n\u001b[0m\u001b[1;32m   1134\u001b[0m \u001b[0;34m\u001b[0m\u001b[0m\n\u001b[1;32m   1135\u001b[0m         \u001b[0;32mfor\u001b[0m \u001b[0mtemp_arg\u001b[0m \u001b[0;32min\u001b[0m \u001b[0mtemp_args\u001b[0m\u001b[0;34m:\u001b[0m\u001b[0;34m\u001b[0m\u001b[0m\n",
      "\u001b[0;32m~/Apps/Spark/spark/python/pyspark/sql/utils.py\u001b[0m in \u001b[0;36mdeco\u001b[0;34m(*a, **kw)\u001b[0m\n\u001b[1;32m     67\u001b[0m                                              e.java_exception.getStackTrace()))\n\u001b[1;32m     68\u001b[0m             \u001b[0;32mif\u001b[0m \u001b[0ms\u001b[0m\u001b[0;34m.\u001b[0m\u001b[0mstartswith\u001b[0m\u001b[0;34m(\u001b[0m\u001b[0;34m'org.apache.spark.sql.AnalysisException: '\u001b[0m\u001b[0;34m)\u001b[0m\u001b[0;34m:\u001b[0m\u001b[0;34m\u001b[0m\u001b[0m\n\u001b[0;32m---> 69\u001b[0;31m                 \u001b[0;32mraise\u001b[0m \u001b[0mAnalysisException\u001b[0m\u001b[0;34m(\u001b[0m\u001b[0ms\u001b[0m\u001b[0;34m.\u001b[0m\u001b[0msplit\u001b[0m\u001b[0;34m(\u001b[0m\u001b[0;34m': '\u001b[0m\u001b[0;34m,\u001b[0m \u001b[0;36m1\u001b[0m\u001b[0;34m)\u001b[0m\u001b[0;34m[\u001b[0m\u001b[0;36m1\u001b[0m\u001b[0;34m]\u001b[0m\u001b[0;34m,\u001b[0m \u001b[0mstackTrace\u001b[0m\u001b[0;34m)\u001b[0m\u001b[0;34m\u001b[0m\u001b[0m\n\u001b[0m\u001b[1;32m     70\u001b[0m             \u001b[0;32mif\u001b[0m \u001b[0ms\u001b[0m\u001b[0;34m.\u001b[0m\u001b[0mstartswith\u001b[0m\u001b[0;34m(\u001b[0m\u001b[0;34m'org.apache.spark.sql.catalyst.analysis'\u001b[0m\u001b[0;34m)\u001b[0m\u001b[0;34m:\u001b[0m\u001b[0;34m\u001b[0m\u001b[0m\n\u001b[1;32m     71\u001b[0m                 \u001b[0;32mraise\u001b[0m \u001b[0mAnalysisException\u001b[0m\u001b[0;34m(\u001b[0m\u001b[0ms\u001b[0m\u001b[0;34m.\u001b[0m\u001b[0msplit\u001b[0m\u001b[0;34m(\u001b[0m\u001b[0;34m': '\u001b[0m\u001b[0;34m,\u001b[0m \u001b[0;36m1\u001b[0m\u001b[0;34m)\u001b[0m\u001b[0;34m[\u001b[0m\u001b[0;36m1\u001b[0m\u001b[0;34m]\u001b[0m\u001b[0;34m,\u001b[0m \u001b[0mstackTrace\u001b[0m\u001b[0;34m)\u001b[0m\u001b[0;34m\u001b[0m\u001b[0m\n",
      "\u001b[0;31mAnalysisException\u001b[0m: 'Cannot resolve column name \"_cpu_value___host_bb1.localdomain___type_instance_idle___\" among (Time, _cpu_value___host_bb1.localdomain___type_instance_idle___, _cpu_value___host_bb1.localdomain___type_instance_interrupt___, _cpu_value___host_bb1.localdomain___type_instance_nice___, _cpu_value___host_bb1.localdomain___type_instance_softirq___, _cpu_value___host_bb1.localdomain___type_instance_steal___, _cpu_value___host_bb1.localdomain___type_instance_system___, _cpu_value___host_bb1.localdomain___type_instance_user___, _cpu_value___host_bb1.localdomain___type_instance_wait___, _cpu_value___host_bb10.localdomain___type_instance_idle___, _cpu_value___host_bb10.localdomain___type_instance_interrupt___, _cpu_value___host_bb10.localdomain___type_instance_nice___, _cpu_value___host_bb10.localdomain___type_instance_softirq___, _cpu_value___host_bb10.localdomain___type_instance_steal___, _cpu_value___host_bb10.localdomain___type_instance_system___, _cpu_value___host_bb10.localdomain___type_instance_user___, _cpu_value___host_bb10.localdomain___type_instance_wait___, _cpu_value___host_bb11.localdomain___type_instance_idle___, _cpu_value___host_bb11.localdomain___type_instance_interrupt___, _cpu_value___host_bb11.localdomain___type_instance_nice___, _cpu_value___host_bb11.localdomain___type_instance_softirq___, _cpu_value___host_bb11.localdomain___type_instance_steal___, _cpu_value___host_bb11.localdomain___type_instance_system___, _cpu_value___host_bb11.localdomain___type_instance_user___, _cpu_value___host_bb11.localdomain___type_instance_wait___, _cpu_value___host_bb12.localdomain___type_instance_idle___, _cpu_value___host_bb12.localdomain___type_instance_interrupt___, _cpu_value___host_bb12.localdomain___type_instance_nice___, _cpu_value___host_bb12.localdomain___type_instance_softirq___, _cpu_value___host_bb12.localdomain___type_instance_steal___, _cpu_value___host_bb12.localdomain___type_instance_system___, _cpu_value___host_bb12.localdomain___type_instance_user___, _cpu_value___host_bb12.localdomain___type_instance_wait___, _cpu_value___host_bb2.localdomain___type_instance_idle___, _cpu_value___host_bb2.localdomain___type_instance_interrupt___, _cpu_value___host_bb2.localdomain___type_instance_nice___, _cpu_value___host_bb2.localdomain___type_instance_softirq___, _cpu_value___host_bb2.localdomain___type_instance_steal___, _cpu_value___host_bb2.localdomain___type_instance_system___, _cpu_value___host_bb2.localdomain___type_instance_user___, _cpu_value___host_bb2.localdomain___type_instance_wait___, _cpu_value___host_bb3.localdomain___type_instance_idle___, _cpu_value___host_bb3.localdomain___type_instance_interrupt___, _cpu_value___host_bb3.localdomain___type_instance_nice___, _cpu_value___host_bb3.localdomain___type_instance_softirq___, _cpu_value___host_bb3.localdomain___type_instance_steal___, _cpu_value___host_bb3.localdomain___type_instance_system___, _cpu_value___host_bb3.localdomain___type_instance_user___, _cpu_value___host_bb3.localdomain___type_instance_wait___, _cpu_value___host_bb4.localdomain___type_instance_idle___, _cpu_value___host_bb4.localdomain___type_instance_interrupt___, _cpu_value___host_bb4.localdomain___type_instance_nice___, _cpu_value___host_bb4.localdomain___type_instance_softirq___, _cpu_value___host_bb4.localdomain___type_instance_steal___, _cpu_value___host_bb4.localdomain___type_instance_system___, _cpu_value___host_bb4.localdomain___type_instance_user___, _cpu_value___host_bb4.localdomain___type_instance_wait___, _cpu_value___host_bb5.localdomain___type_instance_idle___, _cpu_value___host_bb5.localdomain___type_instance_interrupt___, _cpu_value___host_bb5.localdomain___type_instance_nice___, _cpu_value___host_bb5.localdomain___type_instance_softirq___, _cpu_value___host_bb5.localdomain___type_instance_steal___, _cpu_value___host_bb5.localdomain___type_instance_system___, _cpu_value___host_bb5.localdomain___type_instance_user___, _cpu_value___host_bb5.localdomain___type_instance_wait___, _cpu_value___host_bb6.localdomain___type_instance_idle___, _cpu_value___host_bb6.localdomain___type_instance_interrupt___, _cpu_value___host_bb6.localdomain___type_instance_nice___, _cpu_value___host_bb6.localdomain___type_instance_softirq___, _cpu_value___host_bb6.localdomain___type_instance_steal___, _cpu_value___host_bb6.localdomain___type_instance_system___, _cpu_value___host_bb6.localdomain___type_instance_user___, _cpu_value___host_bb6.localdomain___type_instance_wait___, _cpu_value___host_bb7.localdomain___type_instance_idle___, _cpu_value___host_bb7.localdomain___type_instance_interrupt___, _cpu_value___host_bb7.localdomain___type_instance_nice___, _cpu_value___host_bb7.localdomain___type_instance_softirq___, _cpu_value___host_bb7.localdomain___type_instance_steal___, _cpu_value___host_bb7.localdomain___type_instance_system___, _cpu_value___host_bb7.localdomain___type_instance_user___, _cpu_value___host_bb7.localdomain___type_instance_wait___, _cpu_value___host_bb8.localdomain___type_instance_idle___, _cpu_value___host_bb8.localdomain___type_instance_interrupt___, _cpu_value___host_bb8.localdomain___type_instance_nice___, _cpu_value___host_bb8.localdomain___type_instance_softirq___, _cpu_value___host_bb8.localdomain___type_instance_steal___, _cpu_value___host_bb8.localdomain___type_instance_system___, _cpu_value___host_bb8.localdomain___type_instance_user___, _cpu_value___host_bb8.localdomain___type_instance_wait___, _cpu_value___host_bb9.localdomain___type_instance_idle___, _cpu_value___host_bb9.localdomain___type_instance_interrupt___, _cpu_value___host_bb9.localdomain___type_instance_nice___, _cpu_value___host_bb9.localdomain___type_instance_softirq___, _cpu_value___host_bb9.localdomain___type_instance_steal___, _cpu_value___host_bb9.localdomain___type_instance_system___, _cpu_value___host_bb9.localdomain___type_instance_user___, _cpu_value___host_bb9.localdomain___type_instance_wait___);'"
     ]
    }
   ],
   "source": [
    "df[df.columns[1]]"
   ]
  },
  {
   "cell_type": "code",
   "execution_count": null,
   "metadata": {
    "collapsed": true
   },
   "outputs": [],
   "source": []
  }
 ],
 "metadata": {
  "kernelspec": {
   "display_name": "Python 3",
   "language": "python",
   "name": "python3"
  },
  "language_info": {
   "codemirror_mode": {
    "name": "ipython",
    "version": 3
   },
   "file_extension": ".py",
   "mimetype": "text/x-python",
   "name": "python",
   "nbconvert_exporter": "python",
   "pygments_lexer": "ipython3",
   "version": "3.6.2"
  }
 },
 "nbformat": 4,
 "nbformat_minor": 2
}
